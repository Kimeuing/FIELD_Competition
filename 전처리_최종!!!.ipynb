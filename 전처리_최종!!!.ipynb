{
 "cells": [
  {
   "cell_type": "code",
   "execution_count": null,
   "id": "f04d7964",
   "metadata": {
    "id": "f04d7964"
   },
   "outputs": [],
   "source": [
    "#패키지 설치\n",
    "import pandas as pd\n",
    "import seaborn as sns\n",
    "import numpy as np\n",
    "import matplotlib.pyplot as plt\n",
    "from thundersvm import SVC\n",
    "from sklearn.preprocessing import MinMaxScaler, RobustScaler, StandardScaler\n",
    "from sklearn.model_selection import train_test_split\n",
    "from sklearn import metrics"
   ]
  },
  {
   "cell_type": "code",
   "execution_count": null,
   "id": "w8SR-DN0SVF1",
   "metadata": {
    "id": "w8SR-DN0SVF1"
   },
   "outputs": [],
   "source": [
    "train = pd.read_csv(\"train.csv\")"
   ]
  },
  {
   "cell_type": "markdown",
   "id": "be71dba5",
   "metadata": {
    "id": "be71dba5"
   },
   "source": [
    "# 1차 변수 제거 및 타입 변경"
   ]
  },
  {
   "cell_type": "code",
   "execution_count": null,
   "id": "0a3467e2",
   "metadata": {
    "id": "0a3467e2"
   },
   "outputs": [],
   "source": [
    "train = train.replace({'Y':1,'N':0}) # 데이터 셋에 있는 Y, N을 1,0으로 변경"
   ]
  },
  {
   "cell_type": "code",
   "execution_count": null,
   "id": "9908d00b",
   "metadata": {
    "id": "9908d00b"
   },
   "outputs": [],
   "source": [
    "train['SIGHT_LEFT_CATE'] =train['SIGHT_LEFT'] #  좌,우 시력 범주화 위해 임의로 생성\n",
    "train['SIGHT_RIGHT_CATE']= train['SIGHT_RIGHT']"
   ]
  },
  {
   "cell_type": "code",
   "execution_count": null,
   "id": "172b397e",
   "metadata": {
    "id": "172b397e"
   },
   "outputs": [],
   "source": [
    "train.loc[train['SIGHT_LEFT'] <= 3,'SIGHT_LEFT_CATE']='0' # 실명이 아니면 0 실명이면 1\n",
    "train.loc[train['SIGHT_LEFT'] >3, 'SIGHT_LEFT_CATE']='1'\n",
    "train.loc[train['SIGHT_RIGHT'] <= 3,'SIGHT_RIGHT_CATE']='0'\n",
    "train.loc[train['SIGHT_RIGHT'] >3, 'SIGHT_RIGHT_CATE']='1'"
   ]
  },
  {
   "cell_type": "code",
   "execution_count": null,
   "id": "ea884b36",
   "metadata": {
    "id": "ea884b36"
   },
   "outputs": [],
   "source": [
    "#변수 카테고리화\n",
    "train= train.astype({'SEX':'category','HEAR_LEFT':'category', 'SIDO': 'category', 'HEAR_RIGHT':'category', 'SMK_STAT': 'category'})\n",
    "train= train.astype({'AGE':'category','HEIGHT':'category', 'WEIGHT': 'category'})\n",
    "train= train.astype({'OLIG_PROTE':'category', 'CRS_YN': 'category'})\n",
    "train= train.astype({'DRK_YN':'category', 'HCHK_OE_INSPEC_YN':'category', 'TTR_YN':'category'})"
   ]
  },
  {
   "cell_type": "code",
   "execution_count": null,
   "id": "b5d2d196",
   "metadata": {
    "id": "b5d2d196"
   },
   "outputs": [],
   "source": [
    "# 단일 값, 흡연 판별에 불필요한 속성 제거 / ID, SIDO, 구강검진 유무, 치석 유무 / 청각(좌,우)\n",
    "train = train.drop(train.columns[[0,6,3,9,10,25,27]],axis=1)"
   ]
  },
  {
   "cell_type": "code",
   "execution_count": null,
   "id": "e5b0f64d",
   "metadata": {
    "colab": {
     "base_uri": "https://localhost:8080/"
    },
    "id": "e5b0f64d",
    "outputId": "4de5ae36-61c1-454e-aee1-71f819e3f731"
   },
   "outputs": [
    {
     "name": "stdout",
     "output_type": "stream",
     "text": [
      "<class 'pandas.core.frame.DataFrame'>\n",
      "RangeIndex: 100000 entries, 0 to 99999\n",
      "Data columns (total 24 columns):\n",
      " #   Column            Non-Null Count   Dtype   \n",
      "---  ------            --------------   -----   \n",
      " 0   SEX               100000 non-null  category\n",
      " 1   AGE               100000 non-null  category\n",
      " 2   HEIGHT            100000 non-null  category\n",
      " 3   WEIGHT            100000 non-null  category\n",
      " 4   SIGHT_LEFT        99979 non-null   float64 \n",
      " 5   SIGHT_RIGHT       99979 non-null   float64 \n",
      " 6   BP_HIGH           99425 non-null   float64 \n",
      " 7   BP_LWST           99425 non-null   float64 \n",
      " 8   BLDS              99409 non-null   float64 \n",
      " 9   TOT_CHOLE         33340 non-null   float64 \n",
      " 10  TRIGLYCERIDE      33340 non-null   float64 \n",
      " 11  HDL_CHOLE         33339 non-null   float64 \n",
      " 12  LDL_CHOLE         32707 non-null   float64 \n",
      " 13  HMG               99410 non-null   float64 \n",
      " 14  OLIG_PROTE        98973 non-null   category\n",
      " 15  CREATININE        99409 non-null   float64 \n",
      " 16  SGOT_AST          99410 non-null   float64 \n",
      " 17  SGOT_ALT          99410 non-null   float64 \n",
      " 18  GAMMA_GTP         99410 non-null   float64 \n",
      " 19  DRK_YN            100000 non-null  category\n",
      " 20  CRS_YN            40214 non-null   category\n",
      " 21  SMK_STAT          100000 non-null  category\n",
      " 22  SIGHT_LEFT_CATE   99979 non-null   object  \n",
      " 23  SIGHT_RIGHT_CATE  99979 non-null   object  \n",
      "dtypes: category(8), float64(14), object(2)\n",
      "memory usage: 13.0+ MB\n"
     ]
    }
   ],
   "source": [
    "train.info()"
   ]
  },
  {
   "cell_type": "code",
   "execution_count": null,
   "id": "b2b8f055",
   "metadata": {
    "id": "b2b8f055"
   },
   "outputs": [],
   "source": [
    "#데이터의 50% 이상이 결측치인 변수 제거 / 총 콜레스테롤, 트리글리세라이드, HDL콜레스테롤, LDL콜레스테롤, 치아우식증 유무\n",
    "train = train.drop(train.columns[[9,10,11,12,20]], axis=1)"
   ]
  },
  {
   "cell_type": "code",
   "execution_count": null,
   "id": "17735794",
   "metadata": {
    "colab": {
     "base_uri": "https://localhost:8080/"
    },
    "id": "17735794",
    "outputId": "c097dbb3-116a-433d-b45d-b7be016e8ce8"
   },
   "outputs": [
    {
     "name": "stdout",
     "output_type": "stream",
     "text": [
      "<class 'pandas.core.frame.DataFrame'>\n",
      "RangeIndex: 100000 entries, 0 to 99999\n",
      "Data columns (total 19 columns):\n",
      " #   Column            Non-Null Count   Dtype   \n",
      "---  ------            --------------   -----   \n",
      " 0   SEX               100000 non-null  category\n",
      " 1   AGE               100000 non-null  category\n",
      " 2   HEIGHT            100000 non-null  category\n",
      " 3   WEIGHT            100000 non-null  category\n",
      " 4   SIGHT_LEFT        99979 non-null   float64 \n",
      " 5   SIGHT_RIGHT       99979 non-null   float64 \n",
      " 6   BP_HIGH           99425 non-null   float64 \n",
      " 7   BP_LWST           99425 non-null   float64 \n",
      " 8   BLDS              99409 non-null   float64 \n",
      " 9   HMG               99410 non-null   float64 \n",
      " 10  OLIG_PROTE        98973 non-null   category\n",
      " 11  CREATININE        99409 non-null   float64 \n",
      " 12  SGOT_AST          99410 non-null   float64 \n",
      " 13  SGOT_ALT          99410 non-null   float64 \n",
      " 14  GAMMA_GTP         99410 non-null   float64 \n",
      " 15  DRK_YN            100000 non-null  category\n",
      " 16  SMK_STAT          100000 non-null  category\n",
      " 17  SIGHT_LEFT_CATE   99979 non-null   object  \n",
      " 18  SIGHT_RIGHT_CATE  99979 non-null   object  \n",
      "dtypes: category(7), float64(10), object(2)\n",
      "memory usage: 9.8+ MB\n"
     ]
    }
   ],
   "source": [
    "train.info()"
   ]
  },
  {
   "cell_type": "markdown",
   "id": "373e5e4e",
   "metadata": {
    "id": "373e5e4e"
   },
   "source": [
    "# 시력 범주화"
   ]
  },
  {
   "cell_type": "code",
   "execution_count": null,
   "id": "1f2b857a",
   "metadata": {
    "id": "1f2b857a"
   },
   "outputs": [],
   "source": [
    "#원래 있던 좌,우 시력 변수 삭제\n",
    "train = train.drop(train.columns[[4,5]], axis=1)"
   ]
  },
  {
   "cell_type": "code",
   "execution_count": null,
   "id": "fbacf5c0",
   "metadata": {
    "id": "fbacf5c0"
   },
   "outputs": [],
   "source": [
    "train= train.astype({'SIGHT_LEFT_CATE':'category','SIGHT_RIGHT_CATE':'category'})"
   ]
  },
  {
   "cell_type": "code",
   "execution_count": null,
   "id": "gTz2BOpMnC7K",
   "metadata": {
    "id": "gTz2BOpMnC7K"
   },
   "outputs": [],
   "source": [
    "#성별 분리\n",
    "women = train[train.SEX==2]\n",
    "men = train[train.SEX==1]"
   ]
  },
  {
   "cell_type": "markdown",
   "id": "b384095e",
   "metadata": {
    "id": "b384095e"
   },
   "source": [
    "# 결측값 대체"
   ]
  },
  {
   "cell_type": "code",
   "execution_count": null,
   "id": "1df4f554",
   "metadata": {
    "id": "1df4f554"
   },
   "outputs": [],
   "source": [
    "#KNN 이용에 앞서 정규화 / 성별에 나눠서\n",
    "from sklearn.preprocessing import MinMaxScaler\n",
    "scaler=MinMaxScaler()\n",
    "men= pd.DataFrame(scaler.fit_transform(men), columns= men.columns)\n",
    "women= pd.DataFrame(scaler.fit_transform(women), columns= women.columns)"
   ]
  },
  {
   "cell_type": "code",
   "execution_count": null,
   "id": "w_0OYYHW-IMS",
   "metadata": {
    "colab": {
     "base_uri": "https://localhost:8080/",
     "height": 364
    },
    "id": "w_0OYYHW-IMS",
    "outputId": "ea9a7eff-ed9e-4ee1-d9e0-901b22153928"
   },
   "outputs": [
    {
     "data": {
      "text/html": [
       "\n",
       "  <div id=\"df-1429917a-eb25-4eeb-9863-23f86338bf6f\">\n",
       "    <div class=\"colab-df-container\">\n",
       "      <div>\n",
       "<style scoped>\n",
       "    .dataframe tbody tr th:only-of-type {\n",
       "        vertical-align: middle;\n",
       "    }\n",
       "\n",
       "    .dataframe tbody tr th {\n",
       "        vertical-align: top;\n",
       "    }\n",
       "\n",
       "    .dataframe thead th {\n",
       "        text-align: right;\n",
       "    }\n",
       "</style>\n",
       "<table border=\"1\" class=\"dataframe\">\n",
       "  <thead>\n",
       "    <tr style=\"text-align: right;\">\n",
       "      <th></th>\n",
       "      <th>SEX</th>\n",
       "      <th>AGE</th>\n",
       "      <th>HEIGHT</th>\n",
       "      <th>WEIGHT</th>\n",
       "      <th>BP_HIGH</th>\n",
       "      <th>BP_LWST</th>\n",
       "      <th>BLDS</th>\n",
       "      <th>HMG</th>\n",
       "      <th>OLIG_PROTE</th>\n",
       "      <th>CREATININE</th>\n",
       "      <th>SGOT_AST</th>\n",
       "      <th>SGOT_ALT</th>\n",
       "      <th>GAMMA_GTP</th>\n",
       "      <th>DRK_YN</th>\n",
       "      <th>SMK_STAT</th>\n",
       "      <th>SIGHT_LEFT_CATE</th>\n",
       "      <th>SIGHT_RIGHT_CATE</th>\n",
       "    </tr>\n",
       "  </thead>\n",
       "  <tbody>\n",
       "    <tr>\n",
       "      <th>count</th>\n",
       "      <td>54646.0</td>\n",
       "      <td>54646.000000</td>\n",
       "      <td>54646.000000</td>\n",
       "      <td>54646.000000</td>\n",
       "      <td>54441.000000</td>\n",
       "      <td>54441.000000</td>\n",
       "      <td>54435.000000</td>\n",
       "      <td>54436.000000</td>\n",
       "      <td>54287.000000</td>\n",
       "      <td>54436.000000</td>\n",
       "      <td>54436.000000</td>\n",
       "      <td>54436.000000</td>\n",
       "      <td>54436.000000</td>\n",
       "      <td>54646.000000</td>\n",
       "      <td>54646.000000</td>\n",
       "      <td>54634.000000</td>\n",
       "      <td>54635.000000</td>\n",
       "    </tr>\n",
       "    <tr>\n",
       "      <th>mean</th>\n",
       "      <td>0.0</td>\n",
       "      <td>0.413161</td>\n",
       "      <td>0.522948</td>\n",
       "      <td>0.320618</td>\n",
       "      <td>0.338639</td>\n",
       "      <td>0.296693</td>\n",
       "      <td>0.124865</td>\n",
       "      <td>0.580837</td>\n",
       "      <td>0.021932</td>\n",
       "      <td>0.012010</td>\n",
       "      <td>0.004471</td>\n",
       "      <td>0.007986</td>\n",
       "      <td>0.047898</td>\n",
       "      <td>0.780624</td>\n",
       "      <td>0.517046</td>\n",
       "      <td>0.003496</td>\n",
       "      <td>0.003185</td>\n",
       "    </tr>\n",
       "    <tr>\n",
       "      <th>std</th>\n",
       "      <td>0.0</td>\n",
       "      <td>0.216952</td>\n",
       "      <td>0.146107</td>\n",
       "      <td>0.120271</td>\n",
       "      <td>0.102193</td>\n",
       "      <td>0.082756</td>\n",
       "      <td>0.045687</td>\n",
       "      <td>0.070625</td>\n",
       "      <td>0.094088</td>\n",
       "      <td>0.006645</td>\n",
       "      <td>0.006330</td>\n",
       "      <td>0.010332</td>\n",
       "      <td>0.061587</td>\n",
       "      <td>0.413827</td>\n",
       "      <td>0.400986</td>\n",
       "      <td>0.059024</td>\n",
       "      <td>0.056344</td>\n",
       "    </tr>\n",
       "    <tr>\n",
       "      <th>min</th>\n",
       "      <td>0.0</td>\n",
       "      <td>0.000000</td>\n",
       "      <td>0.000000</td>\n",
       "      <td>0.000000</td>\n",
       "      <td>0.000000</td>\n",
       "      <td>0.000000</td>\n",
       "      <td>0.000000</td>\n",
       "      <td>0.000000</td>\n",
       "      <td>0.000000</td>\n",
       "      <td>0.000000</td>\n",
       "      <td>0.000000</td>\n",
       "      <td>0.000000</td>\n",
       "      <td>0.000000</td>\n",
       "      <td>0.000000</td>\n",
       "      <td>0.000000</td>\n",
       "      <td>0.000000</td>\n",
       "      <td>0.000000</td>\n",
       "    </tr>\n",
       "    <tr>\n",
       "      <th>25%</th>\n",
       "      <td>0.0</td>\n",
       "      <td>0.230769</td>\n",
       "      <td>0.444444</td>\n",
       "      <td>0.263158</td>\n",
       "      <td>0.270677</td>\n",
       "      <td>0.228814</td>\n",
       "      <td>0.102967</td>\n",
       "      <td>0.541667</td>\n",
       "      <td>0.000000</td>\n",
       "      <td>0.009602</td>\n",
       "      <td>0.003025</td>\n",
       "      <td>0.004437</td>\n",
       "      <td>0.020060</td>\n",
       "      <td>1.000000</td>\n",
       "      <td>0.000000</td>\n",
       "      <td>0.000000</td>\n",
       "      <td>0.000000</td>\n",
       "    </tr>\n",
       "    <tr>\n",
       "      <th>50%</th>\n",
       "      <td>0.0</td>\n",
       "      <td>0.384615</td>\n",
       "      <td>0.555556</td>\n",
       "      <td>0.315789</td>\n",
       "      <td>0.330827</td>\n",
       "      <td>0.296610</td>\n",
       "      <td>0.115183</td>\n",
       "      <td>0.583333</td>\n",
       "      <td>0.000000</td>\n",
       "      <td>0.012346</td>\n",
       "      <td>0.003866</td>\n",
       "      <td>0.006265</td>\n",
       "      <td>0.030090</td>\n",
       "      <td>1.000000</td>\n",
       "      <td>0.500000</td>\n",
       "      <td>0.000000</td>\n",
       "      <td>0.000000</td>\n",
       "    </tr>\n",
       "    <tr>\n",
       "      <th>75%</th>\n",
       "      <td>0.0</td>\n",
       "      <td>0.538462</td>\n",
       "      <td>0.666667</td>\n",
       "      <td>0.368421</td>\n",
       "      <td>0.398496</td>\n",
       "      <td>0.347458</td>\n",
       "      <td>0.132635</td>\n",
       "      <td>0.625000</td>\n",
       "      <td>0.000000</td>\n",
       "      <td>0.013717</td>\n",
       "      <td>0.004874</td>\n",
       "      <td>0.009136</td>\n",
       "      <td>0.053159</td>\n",
       "      <td>1.000000</td>\n",
       "      <td>1.000000</td>\n",
       "      <td>0.000000</td>\n",
       "      <td>0.000000</td>\n",
       "    </tr>\n",
       "    <tr>\n",
       "      <th>max</th>\n",
       "      <td>0.0</td>\n",
       "      <td>1.000000</td>\n",
       "      <td>1.000000</td>\n",
       "      <td>1.000000</td>\n",
       "      <td>1.000000</td>\n",
       "      <td>1.000000</td>\n",
       "      <td>1.000000</td>\n",
       "      <td>1.000000</td>\n",
       "      <td>1.000000</td>\n",
       "      <td>1.000000</td>\n",
       "      <td>1.000000</td>\n",
       "      <td>1.000000</td>\n",
       "      <td>1.000000</td>\n",
       "      <td>1.000000</td>\n",
       "      <td>1.000000</td>\n",
       "      <td>1.000000</td>\n",
       "      <td>1.000000</td>\n",
       "    </tr>\n",
       "  </tbody>\n",
       "</table>\n",
       "</div>\n",
       "      <button class=\"colab-df-convert\" onclick=\"convertToInteractive('df-1429917a-eb25-4eeb-9863-23f86338bf6f')\"\n",
       "              title=\"Convert this dataframe to an interactive table.\"\n",
       "              style=\"display:none;\">\n",
       "        \n",
       "  <svg xmlns=\"http://www.w3.org/2000/svg\" height=\"24px\"viewBox=\"0 0 24 24\"\n",
       "       width=\"24px\">\n",
       "    <path d=\"M0 0h24v24H0V0z\" fill=\"none\"/>\n",
       "    <path d=\"M18.56 5.44l.94 2.06.94-2.06 2.06-.94-2.06-.94-.94-2.06-.94 2.06-2.06.94zm-11 1L8.5 8.5l.94-2.06 2.06-.94-2.06-.94L8.5 2.5l-.94 2.06-2.06.94zm10 10l.94 2.06.94-2.06 2.06-.94-2.06-.94-.94-2.06-.94 2.06-2.06.94z\"/><path d=\"M17.41 7.96l-1.37-1.37c-.4-.4-.92-.59-1.43-.59-.52 0-1.04.2-1.43.59L10.3 9.45l-7.72 7.72c-.78.78-.78 2.05 0 2.83L4 21.41c.39.39.9.59 1.41.59.51 0 1.02-.2 1.41-.59l7.78-7.78 2.81-2.81c.8-.78.8-2.07 0-2.86zM5.41 20L4 18.59l7.72-7.72 1.47 1.35L5.41 20z\"/>\n",
       "  </svg>\n",
       "      </button>\n",
       "      \n",
       "  <style>\n",
       "    .colab-df-container {\n",
       "      display:flex;\n",
       "      flex-wrap:wrap;\n",
       "      gap: 12px;\n",
       "    }\n",
       "\n",
       "    .colab-df-convert {\n",
       "      background-color: #E8F0FE;\n",
       "      border: none;\n",
       "      border-radius: 50%;\n",
       "      cursor: pointer;\n",
       "      display: none;\n",
       "      fill: #1967D2;\n",
       "      height: 32px;\n",
       "      padding: 0 0 0 0;\n",
       "      width: 32px;\n",
       "    }\n",
       "\n",
       "    .colab-df-convert:hover {\n",
       "      background-color: #E2EBFA;\n",
       "      box-shadow: 0px 1px 2px rgba(60, 64, 67, 0.3), 0px 1px 3px 1px rgba(60, 64, 67, 0.15);\n",
       "      fill: #174EA6;\n",
       "    }\n",
       "\n",
       "    [theme=dark] .colab-df-convert {\n",
       "      background-color: #3B4455;\n",
       "      fill: #D2E3FC;\n",
       "    }\n",
       "\n",
       "    [theme=dark] .colab-df-convert:hover {\n",
       "      background-color: #434B5C;\n",
       "      box-shadow: 0px 1px 3px 1px rgba(0, 0, 0, 0.15);\n",
       "      filter: drop-shadow(0px 1px 2px rgba(0, 0, 0, 0.3));\n",
       "      fill: #FFFFFF;\n",
       "    }\n",
       "  </style>\n",
       "\n",
       "      <script>\n",
       "        const buttonEl =\n",
       "          document.querySelector('#df-1429917a-eb25-4eeb-9863-23f86338bf6f button.colab-df-convert');\n",
       "        buttonEl.style.display =\n",
       "          google.colab.kernel.accessAllowed ? 'block' : 'none';\n",
       "\n",
       "        async function convertToInteractive(key) {\n",
       "          const element = document.querySelector('#df-1429917a-eb25-4eeb-9863-23f86338bf6f');\n",
       "          const dataTable =\n",
       "            await google.colab.kernel.invokeFunction('convertToInteractive',\n",
       "                                                     [key], {});\n",
       "          if (!dataTable) return;\n",
       "\n",
       "          const docLinkHtml = 'Like what you see? Visit the ' +\n",
       "            '<a target=\"_blank\" href=https://colab.research.google.com/notebooks/data_table.ipynb>data table notebook</a>'\n",
       "            + ' to learn more about interactive tables.';\n",
       "          element.innerHTML = '';\n",
       "          dataTable['output_type'] = 'display_data';\n",
       "          await google.colab.output.renderOutput(dataTable, element);\n",
       "          const docLink = document.createElement('div');\n",
       "          docLink.innerHTML = docLinkHtml;\n",
       "          element.appendChild(docLink);\n",
       "        }\n",
       "      </script>\n",
       "    </div>\n",
       "  </div>\n",
       "  "
      ],
      "text/plain": [
       "           SEX           AGE        HEIGHT        WEIGHT       BP_HIGH  \\\n",
       "count  54646.0  54646.000000  54646.000000  54646.000000  54441.000000   \n",
       "mean       0.0      0.413161      0.522948      0.320618      0.338639   \n",
       "std        0.0      0.216952      0.146107      0.120271      0.102193   \n",
       "min        0.0      0.000000      0.000000      0.000000      0.000000   \n",
       "25%        0.0      0.230769      0.444444      0.263158      0.270677   \n",
       "50%        0.0      0.384615      0.555556      0.315789      0.330827   \n",
       "75%        0.0      0.538462      0.666667      0.368421      0.398496   \n",
       "max        0.0      1.000000      1.000000      1.000000      1.000000   \n",
       "\n",
       "            BP_LWST          BLDS           HMG    OLIG_PROTE    CREATININE  \\\n",
       "count  54441.000000  54435.000000  54436.000000  54287.000000  54436.000000   \n",
       "mean       0.296693      0.124865      0.580837      0.021932      0.012010   \n",
       "std        0.082756      0.045687      0.070625      0.094088      0.006645   \n",
       "min        0.000000      0.000000      0.000000      0.000000      0.000000   \n",
       "25%        0.228814      0.102967      0.541667      0.000000      0.009602   \n",
       "50%        0.296610      0.115183      0.583333      0.000000      0.012346   \n",
       "75%        0.347458      0.132635      0.625000      0.000000      0.013717   \n",
       "max        1.000000      1.000000      1.000000      1.000000      1.000000   \n",
       "\n",
       "           SGOT_AST      SGOT_ALT     GAMMA_GTP        DRK_YN      SMK_STAT  \\\n",
       "count  54436.000000  54436.000000  54436.000000  54646.000000  54646.000000   \n",
       "mean       0.004471      0.007986      0.047898      0.780624      0.517046   \n",
       "std        0.006330      0.010332      0.061587      0.413827      0.400986   \n",
       "min        0.000000      0.000000      0.000000      0.000000      0.000000   \n",
       "25%        0.003025      0.004437      0.020060      1.000000      0.000000   \n",
       "50%        0.003866      0.006265      0.030090      1.000000      0.500000   \n",
       "75%        0.004874      0.009136      0.053159      1.000000      1.000000   \n",
       "max        1.000000      1.000000      1.000000      1.000000      1.000000   \n",
       "\n",
       "       SIGHT_LEFT_CATE  SIGHT_RIGHT_CATE  \n",
       "count     54634.000000      54635.000000  \n",
       "mean          0.003496          0.003185  \n",
       "std           0.059024          0.056344  \n",
       "min           0.000000          0.000000  \n",
       "25%           0.000000          0.000000  \n",
       "50%           0.000000          0.000000  \n",
       "75%           0.000000          0.000000  \n",
       "max           1.000000          1.000000  "
      ]
     },
     "execution_count": 318,
     "metadata": {},
     "output_type": "execute_result"
    }
   ],
   "source": [
    "men.describe()"
   ]
  },
  {
   "cell_type": "code",
   "execution_count": null,
   "id": "257b401b",
   "metadata": {
    "id": "257b401b"
   },
   "outputs": [],
   "source": [
    "# 인접이웃 3개를 기준으로 결측치 대체 / 성별에 나눠서\n",
    "from sklearn.impute import KNNImputer\n",
    "imputer =KNNImputer(n_neighbors=3)\n",
    "men=pd.DataFrame(imputer.fit_transform(men), columns=men.columns)\n",
    "women=pd.DataFrame(imputer.fit_transform(women), columns=women.columns)"
   ]
  },
  {
   "cell_type": "code",
   "execution_count": null,
   "id": "74f59304",
   "metadata": {
    "id": "74f59304"
   },
   "outputs": [],
   "source": [
    "# 정규화된 데이터 역 정규화 / 성별에 나눠서\n",
    "men= pd.DataFrame(scaler.inverse_transform(men), columns=men.columns)\n",
    "women= pd.DataFrame(scaler.inverse_transform(women), columns=women.columns)"
   ]
  },
  {
   "cell_type": "code",
   "execution_count": null,
   "id": "7b8ee23b",
   "metadata": {
    "colab": {
     "base_uri": "https://localhost:8080/",
     "height": 49
    },
    "id": "7b8ee23b",
    "outputId": "43d586dc-49d8-4cd1-a298-f76ffadf4fa2"
   },
   "outputs": [
    {
     "data": {
      "text/html": [
       "\n",
       "  <div id=\"df-87c7aec3-b942-4b29-891d-94701ffc159e\">\n",
       "    <div class=\"colab-df-container\">\n",
       "      <div>\n",
       "<style scoped>\n",
       "    .dataframe tbody tr th:only-of-type {\n",
       "        vertical-align: middle;\n",
       "    }\n",
       "\n",
       "    .dataframe tbody tr th {\n",
       "        vertical-align: top;\n",
       "    }\n",
       "\n",
       "    .dataframe thead th {\n",
       "        text-align: right;\n",
       "    }\n",
       "</style>\n",
       "<table border=\"1\" class=\"dataframe\">\n",
       "  <thead>\n",
       "    <tr style=\"text-align: right;\">\n",
       "      <th></th>\n",
       "      <th>column</th>\n",
       "      <th>count</th>\n",
       "      <th>ratio</th>\n",
       "    </tr>\n",
       "  </thead>\n",
       "  <tbody>\n",
       "  </tbody>\n",
       "</table>\n",
       "</div>\n",
       "      <button class=\"colab-df-convert\" onclick=\"convertToInteractive('df-87c7aec3-b942-4b29-891d-94701ffc159e')\"\n",
       "              title=\"Convert this dataframe to an interactive table.\"\n",
       "              style=\"display:none;\">\n",
       "        \n",
       "  <svg xmlns=\"http://www.w3.org/2000/svg\" height=\"24px\"viewBox=\"0 0 24 24\"\n",
       "       width=\"24px\">\n",
       "    <path d=\"M0 0h24v24H0V0z\" fill=\"none\"/>\n",
       "    <path d=\"M18.56 5.44l.94 2.06.94-2.06 2.06-.94-2.06-.94-.94-2.06-.94 2.06-2.06.94zm-11 1L8.5 8.5l.94-2.06 2.06-.94-2.06-.94L8.5 2.5l-.94 2.06-2.06.94zm10 10l.94 2.06.94-2.06 2.06-.94-2.06-.94-.94-2.06-.94 2.06-2.06.94z\"/><path d=\"M17.41 7.96l-1.37-1.37c-.4-.4-.92-.59-1.43-.59-.52 0-1.04.2-1.43.59L10.3 9.45l-7.72 7.72c-.78.78-.78 2.05 0 2.83L4 21.41c.39.39.9.59 1.41.59.51 0 1.02-.2 1.41-.59l7.78-7.78 2.81-2.81c.8-.78.8-2.07 0-2.86zM5.41 20L4 18.59l7.72-7.72 1.47 1.35L5.41 20z\"/>\n",
       "  </svg>\n",
       "      </button>\n",
       "      \n",
       "  <style>\n",
       "    .colab-df-container {\n",
       "      display:flex;\n",
       "      flex-wrap:wrap;\n",
       "      gap: 12px;\n",
       "    }\n",
       "\n",
       "    .colab-df-convert {\n",
       "      background-color: #E8F0FE;\n",
       "      border: none;\n",
       "      border-radius: 50%;\n",
       "      cursor: pointer;\n",
       "      display: none;\n",
       "      fill: #1967D2;\n",
       "      height: 32px;\n",
       "      padding: 0 0 0 0;\n",
       "      width: 32px;\n",
       "    }\n",
       "\n",
       "    .colab-df-convert:hover {\n",
       "      background-color: #E2EBFA;\n",
       "      box-shadow: 0px 1px 2px rgba(60, 64, 67, 0.3), 0px 1px 3px 1px rgba(60, 64, 67, 0.15);\n",
       "      fill: #174EA6;\n",
       "    }\n",
       "\n",
       "    [theme=dark] .colab-df-convert {\n",
       "      background-color: #3B4455;\n",
       "      fill: #D2E3FC;\n",
       "    }\n",
       "\n",
       "    [theme=dark] .colab-df-convert:hover {\n",
       "      background-color: #434B5C;\n",
       "      box-shadow: 0px 1px 3px 1px rgba(0, 0, 0, 0.15);\n",
       "      filter: drop-shadow(0px 1px 2px rgba(0, 0, 0, 0.3));\n",
       "      fill: #FFFFFF;\n",
       "    }\n",
       "  </style>\n",
       "\n",
       "      <script>\n",
       "        const buttonEl =\n",
       "          document.querySelector('#df-87c7aec3-b942-4b29-891d-94701ffc159e button.colab-df-convert');\n",
       "        buttonEl.style.display =\n",
       "          google.colab.kernel.accessAllowed ? 'block' : 'none';\n",
       "\n",
       "        async function convertToInteractive(key) {\n",
       "          const element = document.querySelector('#df-87c7aec3-b942-4b29-891d-94701ffc159e');\n",
       "          const dataTable =\n",
       "            await google.colab.kernel.invokeFunction('convertToInteractive',\n",
       "                                                     [key], {});\n",
       "          if (!dataTable) return;\n",
       "\n",
       "          const docLinkHtml = 'Like what you see? Visit the ' +\n",
       "            '<a target=\"_blank\" href=https://colab.research.google.com/notebooks/data_table.ipynb>data table notebook</a>'\n",
       "            + ' to learn more about interactive tables.';\n",
       "          element.innerHTML = '';\n",
       "          dataTable['output_type'] = 'display_data';\n",
       "          await google.colab.output.renderOutput(dataTable, element);\n",
       "          const docLink = document.createElement('div');\n",
       "          docLink.innerHTML = docLinkHtml;\n",
       "          element.appendChild(docLink);\n",
       "        }\n",
       "      </script>\n",
       "    </div>\n",
       "  </div>\n",
       "  "
      ],
      "text/plain": [
       "Empty DataFrame\n",
       "Columns: [column, count, ratio]\n",
       "Index: []"
      ]
     },
     "execution_count": 321,
     "metadata": {},
     "output_type": "execute_result"
    }
   ],
   "source": [
    "#결측치 및 전체 데이터 중 비중 확인 /남자\n",
    "missing_df = men.isnull().sum().reset_index()\n",
    "missing_df.columns=['column','count']\n",
    "missing_df['ratio']= missing_df['count'] / men.shape[0]\n",
    "missing_df.loc[missing_df['ratio']!=0]\n",
    "\n",
    "# 결측치 사라진 모습"
   ]
  },
  {
   "cell_type": "code",
   "execution_count": null,
   "id": "f2X_r0lNzKAf",
   "metadata": {
    "colab": {
     "base_uri": "https://localhost:8080/",
     "height": 49
    },
    "id": "f2X_r0lNzKAf",
    "outputId": "95ae6c6e-2c94-42c3-8603-95edf7b5edc6"
   },
   "outputs": [
    {
     "data": {
      "text/html": [
       "\n",
       "  <div id=\"df-4a2bec4f-0d93-470a-9ada-0b55d7492278\">\n",
       "    <div class=\"colab-df-container\">\n",
       "      <div>\n",
       "<style scoped>\n",
       "    .dataframe tbody tr th:only-of-type {\n",
       "        vertical-align: middle;\n",
       "    }\n",
       "\n",
       "    .dataframe tbody tr th {\n",
       "        vertical-align: top;\n",
       "    }\n",
       "\n",
       "    .dataframe thead th {\n",
       "        text-align: right;\n",
       "    }\n",
       "</style>\n",
       "<table border=\"1\" class=\"dataframe\">\n",
       "  <thead>\n",
       "    <tr style=\"text-align: right;\">\n",
       "      <th></th>\n",
       "      <th>column</th>\n",
       "      <th>count</th>\n",
       "      <th>ratio</th>\n",
       "    </tr>\n",
       "  </thead>\n",
       "  <tbody>\n",
       "  </tbody>\n",
       "</table>\n",
       "</div>\n",
       "      <button class=\"colab-df-convert\" onclick=\"convertToInteractive('df-4a2bec4f-0d93-470a-9ada-0b55d7492278')\"\n",
       "              title=\"Convert this dataframe to an interactive table.\"\n",
       "              style=\"display:none;\">\n",
       "        \n",
       "  <svg xmlns=\"http://www.w3.org/2000/svg\" height=\"24px\"viewBox=\"0 0 24 24\"\n",
       "       width=\"24px\">\n",
       "    <path d=\"M0 0h24v24H0V0z\" fill=\"none\"/>\n",
       "    <path d=\"M18.56 5.44l.94 2.06.94-2.06 2.06-.94-2.06-.94-.94-2.06-.94 2.06-2.06.94zm-11 1L8.5 8.5l.94-2.06 2.06-.94-2.06-.94L8.5 2.5l-.94 2.06-2.06.94zm10 10l.94 2.06.94-2.06 2.06-.94-2.06-.94-.94-2.06-.94 2.06-2.06.94z\"/><path d=\"M17.41 7.96l-1.37-1.37c-.4-.4-.92-.59-1.43-.59-.52 0-1.04.2-1.43.59L10.3 9.45l-7.72 7.72c-.78.78-.78 2.05 0 2.83L4 21.41c.39.39.9.59 1.41.59.51 0 1.02-.2 1.41-.59l7.78-7.78 2.81-2.81c.8-.78.8-2.07 0-2.86zM5.41 20L4 18.59l7.72-7.72 1.47 1.35L5.41 20z\"/>\n",
       "  </svg>\n",
       "      </button>\n",
       "      \n",
       "  <style>\n",
       "    .colab-df-container {\n",
       "      display:flex;\n",
       "      flex-wrap:wrap;\n",
       "      gap: 12px;\n",
       "    }\n",
       "\n",
       "    .colab-df-convert {\n",
       "      background-color: #E8F0FE;\n",
       "      border: none;\n",
       "      border-radius: 50%;\n",
       "      cursor: pointer;\n",
       "      display: none;\n",
       "      fill: #1967D2;\n",
       "      height: 32px;\n",
       "      padding: 0 0 0 0;\n",
       "      width: 32px;\n",
       "    }\n",
       "\n",
       "    .colab-df-convert:hover {\n",
       "      background-color: #E2EBFA;\n",
       "      box-shadow: 0px 1px 2px rgba(60, 64, 67, 0.3), 0px 1px 3px 1px rgba(60, 64, 67, 0.15);\n",
       "      fill: #174EA6;\n",
       "    }\n",
       "\n",
       "    [theme=dark] .colab-df-convert {\n",
       "      background-color: #3B4455;\n",
       "      fill: #D2E3FC;\n",
       "    }\n",
       "\n",
       "    [theme=dark] .colab-df-convert:hover {\n",
       "      background-color: #434B5C;\n",
       "      box-shadow: 0px 1px 3px 1px rgba(0, 0, 0, 0.15);\n",
       "      filter: drop-shadow(0px 1px 2px rgba(0, 0, 0, 0.3));\n",
       "      fill: #FFFFFF;\n",
       "    }\n",
       "  </style>\n",
       "\n",
       "      <script>\n",
       "        const buttonEl =\n",
       "          document.querySelector('#df-4a2bec4f-0d93-470a-9ada-0b55d7492278 button.colab-df-convert');\n",
       "        buttonEl.style.display =\n",
       "          google.colab.kernel.accessAllowed ? 'block' : 'none';\n",
       "\n",
       "        async function convertToInteractive(key) {\n",
       "          const element = document.querySelector('#df-4a2bec4f-0d93-470a-9ada-0b55d7492278');\n",
       "          const dataTable =\n",
       "            await google.colab.kernel.invokeFunction('convertToInteractive',\n",
       "                                                     [key], {});\n",
       "          if (!dataTable) return;\n",
       "\n",
       "          const docLinkHtml = 'Like what you see? Visit the ' +\n",
       "            '<a target=\"_blank\" href=https://colab.research.google.com/notebooks/data_table.ipynb>data table notebook</a>'\n",
       "            + ' to learn more about interactive tables.';\n",
       "          element.innerHTML = '';\n",
       "          dataTable['output_type'] = 'display_data';\n",
       "          await google.colab.output.renderOutput(dataTable, element);\n",
       "          const docLink = document.createElement('div');\n",
       "          docLink.innerHTML = docLinkHtml;\n",
       "          element.appendChild(docLink);\n",
       "        }\n",
       "      </script>\n",
       "    </div>\n",
       "  </div>\n",
       "  "
      ],
      "text/plain": [
       "Empty DataFrame\n",
       "Columns: [column, count, ratio]\n",
       "Index: []"
      ]
     },
     "execution_count": 322,
     "metadata": {},
     "output_type": "execute_result"
    }
   ],
   "source": [
    "#결측치 및 전체 데이터 중 비중 확인 /여자\n",
    "missing_df = women.isnull().sum().reset_index()\n",
    "missing_df.columns=['column','count']\n",
    "missing_df['ratio']= missing_df['count'] / women.shape[0]\n",
    "missing_df.loc[missing_df['ratio']!=0]\n",
    "\n",
    "# 결측치 사라진 모습"
   ]
  },
  {
   "cell_type": "code",
   "execution_count": null,
   "id": "ba370e28",
   "metadata": {
    "colab": {
     "base_uri": "https://localhost:8080/",
     "height": 364
    },
    "id": "ba370e28",
    "outputId": "0d85206a-566f-4a12-bf6d-8b64bd22e910"
   },
   "outputs": [
    {
     "data": {
      "text/html": [
       "\n",
       "  <div id=\"df-8ff376fd-24d3-45e7-8d6a-8bc2ad5da6be\">\n",
       "    <div class=\"colab-df-container\">\n",
       "      <div>\n",
       "<style scoped>\n",
       "    .dataframe tbody tr th:only-of-type {\n",
       "        vertical-align: middle;\n",
       "    }\n",
       "\n",
       "    .dataframe tbody tr th {\n",
       "        vertical-align: top;\n",
       "    }\n",
       "\n",
       "    .dataframe thead th {\n",
       "        text-align: right;\n",
       "    }\n",
       "</style>\n",
       "<table border=\"1\" class=\"dataframe\">\n",
       "  <thead>\n",
       "    <tr style=\"text-align: right;\">\n",
       "      <th></th>\n",
       "      <th>SEX</th>\n",
       "      <th>AGE</th>\n",
       "      <th>HEIGHT</th>\n",
       "      <th>WEIGHT</th>\n",
       "      <th>BP_HIGH</th>\n",
       "      <th>BP_LWST</th>\n",
       "      <th>BLDS</th>\n",
       "      <th>HMG</th>\n",
       "      <th>OLIG_PROTE</th>\n",
       "      <th>CREATININE</th>\n",
       "      <th>SGOT_AST</th>\n",
       "      <th>SGOT_ALT</th>\n",
       "      <th>GAMMA_GTP</th>\n",
       "      <th>DRK_YN</th>\n",
       "      <th>SMK_STAT</th>\n",
       "      <th>SIGHT_LEFT_CATE</th>\n",
       "      <th>SIGHT_RIGHT_CATE</th>\n",
       "    </tr>\n",
       "  </thead>\n",
       "  <tbody>\n",
       "    <tr>\n",
       "      <th>count</th>\n",
       "      <td>54646.0</td>\n",
       "      <td>54646.000000</td>\n",
       "      <td>54646.000000</td>\n",
       "      <td>54646.000000</td>\n",
       "      <td>54646.000000</td>\n",
       "      <td>54646.000000</td>\n",
       "      <td>54646.000000</td>\n",
       "      <td>54646.000000</td>\n",
       "      <td>54646.000000</td>\n",
       "      <td>54646.000000</td>\n",
       "      <td>54646.000000</td>\n",
       "      <td>54646.000000</td>\n",
       "      <td>54646.000000</td>\n",
       "      <td>54646.000000</td>\n",
       "      <td>54646.000000</td>\n",
       "      <td>54646.000000</td>\n",
       "      <td>54646.000000</td>\n",
       "    </tr>\n",
       "    <tr>\n",
       "      <th>mean</th>\n",
       "      <td>2.0</td>\n",
       "      <td>46.855488</td>\n",
       "      <td>153.762123</td>\n",
       "      <td>57.252503</td>\n",
       "      <td>119.579042</td>\n",
       "      <td>79.451793</td>\n",
       "      <td>101.322681</td>\n",
       "      <td>13.235947</td>\n",
       "      <td>1.109853</td>\n",
       "      <td>1.239784</td>\n",
       "      <td>9.865177</td>\n",
       "      <td>16.982534</td>\n",
       "      <td>48.753769</td>\n",
       "      <td>0.780624</td>\n",
       "      <td>1.034092</td>\n",
       "      <td>0.003501</td>\n",
       "      <td>0.003184</td>\n",
       "    </tr>\n",
       "    <tr>\n",
       "      <th>std</th>\n",
       "      <td>0.0</td>\n",
       "      <td>14.101892</td>\n",
       "      <td>8.035903</td>\n",
       "      <td>10.223036</td>\n",
       "      <td>17.050584</td>\n",
       "      <td>10.993215</td>\n",
       "      <td>22.045958</td>\n",
       "      <td>1.037961</td>\n",
       "      <td>0.469555</td>\n",
       "      <td>0.629530</td>\n",
       "      <td>12.528698</td>\n",
       "      <td>20.659686</td>\n",
       "      <td>61.367527</td>\n",
       "      <td>0.413827</td>\n",
       "      <td>0.801973</td>\n",
       "      <td>0.059034</td>\n",
       "      <td>0.056339</td>\n",
       "    </tr>\n",
       "    <tr>\n",
       "      <th>min</th>\n",
       "      <td>2.0</td>\n",
       "      <td>20.000000</td>\n",
       "      <td>125.000000</td>\n",
       "      <td>30.000000</td>\n",
       "      <td>63.000000</td>\n",
       "      <td>40.000000</td>\n",
       "      <td>41.000000</td>\n",
       "      <td>4.700000</td>\n",
       "      <td>1.000000</td>\n",
       "      <td>0.100000</td>\n",
       "      <td>1.000000</td>\n",
       "      <td>1.000000</td>\n",
       "      <td>1.000000</td>\n",
       "      <td>0.000000</td>\n",
       "      <td>0.000000</td>\n",
       "      <td>0.000000</td>\n",
       "      <td>0.000000</td>\n",
       "    </tr>\n",
       "    <tr>\n",
       "      <th>25%</th>\n",
       "      <td>2.0</td>\n",
       "      <td>35.000000</td>\n",
       "      <td>149.444444</td>\n",
       "      <td>52.368421</td>\n",
       "      <td>108.203008</td>\n",
       "      <td>70.432203</td>\n",
       "      <td>90.732984</td>\n",
       "      <td>12.662500</td>\n",
       "      <td>1.000000</td>\n",
       "      <td>1.011248</td>\n",
       "      <td>6.998992</td>\n",
       "      <td>9.888280</td>\n",
       "      <td>21.020060</td>\n",
       "      <td>1.000000</td>\n",
       "      <td>0.000000</td>\n",
       "      <td>0.000000</td>\n",
       "      <td>0.000000</td>\n",
       "    </tr>\n",
       "    <tr>\n",
       "      <th>50%</th>\n",
       "      <td>2.0</td>\n",
       "      <td>45.000000</td>\n",
       "      <td>155.555556</td>\n",
       "      <td>56.842105</td>\n",
       "      <td>118.248120</td>\n",
       "      <td>79.449153</td>\n",
       "      <td>96.633508</td>\n",
       "      <td>13.275000</td>\n",
       "      <td>1.000000</td>\n",
       "      <td>1.271605</td>\n",
       "      <td>8.665378</td>\n",
       "      <td>13.548160</td>\n",
       "      <td>31.030090</td>\n",
       "      <td>1.000000</td>\n",
       "      <td>1.000000</td>\n",
       "      <td>0.000000</td>\n",
       "      <td>0.000000</td>\n",
       "    </tr>\n",
       "    <tr>\n",
       "      <th>75%</th>\n",
       "      <td>2.0</td>\n",
       "      <td>55.000000</td>\n",
       "      <td>161.666667</td>\n",
       "      <td>61.315789</td>\n",
       "      <td>129.548872</td>\n",
       "      <td>86.211864</td>\n",
       "      <td>105.062827</td>\n",
       "      <td>13.887500</td>\n",
       "      <td>1.000000</td>\n",
       "      <td>1.401783</td>\n",
       "      <td>10.665042</td>\n",
       "      <td>19.299400</td>\n",
       "      <td>53.052156</td>\n",
       "      <td>1.000000</td>\n",
       "      <td>2.000000</td>\n",
       "      <td>0.000000</td>\n",
       "      <td>0.000000</td>\n",
       "    </tr>\n",
       "    <tr>\n",
       "      <th>max</th>\n",
       "      <td>2.0</td>\n",
       "      <td>85.000000</td>\n",
       "      <td>180.000000</td>\n",
       "      <td>115.000000</td>\n",
       "      <td>230.000000</td>\n",
       "      <td>173.000000</td>\n",
       "      <td>524.000000</td>\n",
       "      <td>19.400000</td>\n",
       "      <td>6.000000</td>\n",
       "      <td>95.000000</td>\n",
       "      <td>1984.000000</td>\n",
       "      <td>2004.000000</td>\n",
       "      <td>999.000000</td>\n",
       "      <td>1.000000</td>\n",
       "      <td>2.000000</td>\n",
       "      <td>1.000000</td>\n",
       "      <td>1.000000</td>\n",
       "    </tr>\n",
       "  </tbody>\n",
       "</table>\n",
       "</div>\n",
       "      <button class=\"colab-df-convert\" onclick=\"convertToInteractive('df-8ff376fd-24d3-45e7-8d6a-8bc2ad5da6be')\"\n",
       "              title=\"Convert this dataframe to an interactive table.\"\n",
       "              style=\"display:none;\">\n",
       "        \n",
       "  <svg xmlns=\"http://www.w3.org/2000/svg\" height=\"24px\"viewBox=\"0 0 24 24\"\n",
       "       width=\"24px\">\n",
       "    <path d=\"M0 0h24v24H0V0z\" fill=\"none\"/>\n",
       "    <path d=\"M18.56 5.44l.94 2.06.94-2.06 2.06-.94-2.06-.94-.94-2.06-.94 2.06-2.06.94zm-11 1L8.5 8.5l.94-2.06 2.06-.94-2.06-.94L8.5 2.5l-.94 2.06-2.06.94zm10 10l.94 2.06.94-2.06 2.06-.94-2.06-.94-.94-2.06-.94 2.06-2.06.94z\"/><path d=\"M17.41 7.96l-1.37-1.37c-.4-.4-.92-.59-1.43-.59-.52 0-1.04.2-1.43.59L10.3 9.45l-7.72 7.72c-.78.78-.78 2.05 0 2.83L4 21.41c.39.39.9.59 1.41.59.51 0 1.02-.2 1.41-.59l7.78-7.78 2.81-2.81c.8-.78.8-2.07 0-2.86zM5.41 20L4 18.59l7.72-7.72 1.47 1.35L5.41 20z\"/>\n",
       "  </svg>\n",
       "      </button>\n",
       "      \n",
       "  <style>\n",
       "    .colab-df-container {\n",
       "      display:flex;\n",
       "      flex-wrap:wrap;\n",
       "      gap: 12px;\n",
       "    }\n",
       "\n",
       "    .colab-df-convert {\n",
       "      background-color: #E8F0FE;\n",
       "      border: none;\n",
       "      border-radius: 50%;\n",
       "      cursor: pointer;\n",
       "      display: none;\n",
       "      fill: #1967D2;\n",
       "      height: 32px;\n",
       "      padding: 0 0 0 0;\n",
       "      width: 32px;\n",
       "    }\n",
       "\n",
       "    .colab-df-convert:hover {\n",
       "      background-color: #E2EBFA;\n",
       "      box-shadow: 0px 1px 2px rgba(60, 64, 67, 0.3), 0px 1px 3px 1px rgba(60, 64, 67, 0.15);\n",
       "      fill: #174EA6;\n",
       "    }\n",
       "\n",
       "    [theme=dark] .colab-df-convert {\n",
       "      background-color: #3B4455;\n",
       "      fill: #D2E3FC;\n",
       "    }\n",
       "\n",
       "    [theme=dark] .colab-df-convert:hover {\n",
       "      background-color: #434B5C;\n",
       "      box-shadow: 0px 1px 3px 1px rgba(0, 0, 0, 0.15);\n",
       "      filter: drop-shadow(0px 1px 2px rgba(0, 0, 0, 0.3));\n",
       "      fill: #FFFFFF;\n",
       "    }\n",
       "  </style>\n",
       "\n",
       "      <script>\n",
       "        const buttonEl =\n",
       "          document.querySelector('#df-8ff376fd-24d3-45e7-8d6a-8bc2ad5da6be button.colab-df-convert');\n",
       "        buttonEl.style.display =\n",
       "          google.colab.kernel.accessAllowed ? 'block' : 'none';\n",
       "\n",
       "        async function convertToInteractive(key) {\n",
       "          const element = document.querySelector('#df-8ff376fd-24d3-45e7-8d6a-8bc2ad5da6be');\n",
       "          const dataTable =\n",
       "            await google.colab.kernel.invokeFunction('convertToInteractive',\n",
       "                                                     [key], {});\n",
       "          if (!dataTable) return;\n",
       "\n",
       "          const docLinkHtml = 'Like what you see? Visit the ' +\n",
       "            '<a target=\"_blank\" href=https://colab.research.google.com/notebooks/data_table.ipynb>data table notebook</a>'\n",
       "            + ' to learn more about interactive tables.';\n",
       "          element.innerHTML = '';\n",
       "          dataTable['output_type'] = 'display_data';\n",
       "          await google.colab.output.renderOutput(dataTable, element);\n",
       "          const docLink = document.createElement('div');\n",
       "          docLink.innerHTML = docLinkHtml;\n",
       "          element.appendChild(docLink);\n",
       "        }\n",
       "      </script>\n",
       "    </div>\n",
       "  </div>\n",
       "  "
      ],
      "text/plain": [
       "           SEX           AGE        HEIGHT        WEIGHT       BP_HIGH  \\\n",
       "count  54646.0  54646.000000  54646.000000  54646.000000  54646.000000   \n",
       "mean       2.0     46.855488    153.762123     57.252503    119.579042   \n",
       "std        0.0     14.101892      8.035903     10.223036     17.050584   \n",
       "min        2.0     20.000000    125.000000     30.000000     63.000000   \n",
       "25%        2.0     35.000000    149.444444     52.368421    108.203008   \n",
       "50%        2.0     45.000000    155.555556     56.842105    118.248120   \n",
       "75%        2.0     55.000000    161.666667     61.315789    129.548872   \n",
       "max        2.0     85.000000    180.000000    115.000000    230.000000   \n",
       "\n",
       "            BP_LWST          BLDS           HMG    OLIG_PROTE    CREATININE  \\\n",
       "count  54646.000000  54646.000000  54646.000000  54646.000000  54646.000000   \n",
       "mean      79.451793    101.322681     13.235947      1.109853      1.239784   \n",
       "std       10.993215     22.045958      1.037961      0.469555      0.629530   \n",
       "min       40.000000     41.000000      4.700000      1.000000      0.100000   \n",
       "25%       70.432203     90.732984     12.662500      1.000000      1.011248   \n",
       "50%       79.449153     96.633508     13.275000      1.000000      1.271605   \n",
       "75%       86.211864    105.062827     13.887500      1.000000      1.401783   \n",
       "max      173.000000    524.000000     19.400000      6.000000     95.000000   \n",
       "\n",
       "           SGOT_AST      SGOT_ALT     GAMMA_GTP        DRK_YN      SMK_STAT  \\\n",
       "count  54646.000000  54646.000000  54646.000000  54646.000000  54646.000000   \n",
       "mean       9.865177     16.982534     48.753769      0.780624      1.034092   \n",
       "std       12.528698     20.659686     61.367527      0.413827      0.801973   \n",
       "min        1.000000      1.000000      1.000000      0.000000      0.000000   \n",
       "25%        6.998992      9.888280     21.020060      1.000000      0.000000   \n",
       "50%        8.665378     13.548160     31.030090      1.000000      1.000000   \n",
       "75%       10.665042     19.299400     53.052156      1.000000      2.000000   \n",
       "max     1984.000000   2004.000000    999.000000      1.000000      2.000000   \n",
       "\n",
       "       SIGHT_LEFT_CATE  SIGHT_RIGHT_CATE  \n",
       "count     54646.000000      54646.000000  \n",
       "mean          0.003501          0.003184  \n",
       "std           0.059034          0.056339  \n",
       "min           0.000000          0.000000  \n",
       "25%           0.000000          0.000000  \n",
       "50%           0.000000          0.000000  \n",
       "75%           0.000000          0.000000  \n",
       "max           1.000000          1.000000  "
      ]
     },
     "execution_count": 323,
     "metadata": {},
     "output_type": "execute_result"
    }
   ],
   "source": [
    "#정규화를 했다가 다시 역정규화를 해서 상수형으로 됨\n",
    "men.describe()"
   ]
  },
  {
   "cell_type": "code",
   "execution_count": null,
   "id": "583612a1",
   "metadata": {
    "id": "583612a1"
   },
   "outputs": [],
   "source": [
    "men['OLIG_PROTE_CATE'] = 0 # 요단백 범주화에 앞서 가변수 생성\n",
    "women['OLIG_PROTE_CATE'] = 0 # 요단백 범주화에 앞서 가변수 생성"
   ]
  },
  {
   "cell_type": "code",
   "execution_count": null,
   "id": "ny5kGm_hkzap",
   "metadata": {
    "colab": {
     "base_uri": "https://localhost:8080/"
    },
    "id": "ny5kGm_hkzap",
    "outputId": "f64d331b-23c3-43e5-a8b0-cd0ed0d7e4eb"
   },
   "outputs": [
    {
     "data": {
      "text/plain": [
       "0.0    54472\n",
       "1.0      174\n",
       "Name: SIGHT_RIGHT_CATE, dtype: int64"
      ]
     },
     "execution_count": 328,
     "metadata": {},
     "output_type": "execute_result"
    }
   ],
   "source": [
    "men['SIGHT_RIGHT_CATE'].value_counts()\n"
   ]
  },
  {
   "cell_type": "code",
   "execution_count": null,
   "id": "f3c69d61",
   "metadata": {
    "id": "f3c69d61"
   },
   "outputs": [],
   "source": [
    "#0.5 기준으로 새롭게 변경 / 남자\n",
    "men.loc[(men['OLIG_PROTE'] >0) & (men['OLIG_PROTE'] <=1.5),'OLIG_PROTE_CATE']= '1'\n",
    "men.loc[(men['OLIG_PROTE'] >1.5) & (men['OLIG_PROTE'] <=2), 'OLIG_PROTE_CATE']='2'\n",
    "men.loc[(men['OLIG_PROTE'] >2) & (men['OLIG_PROTE'] <=2.5),'OLIG_PROTE_CATE']='2'\n",
    "men.loc[(men['OLIG_PROTE'] >2.5) & (men['OLIG_PROTE'] <=3), 'OLIG_PROTE_CATE']='3'\n",
    "men.loc[(men['OLIG_PROTE']>3) & (men['OLIG_PROTE'] <=3.5),'OLIG_PROTE_CATE']='3'\n",
    "men.loc[(men['OLIG_PROTE'] >3.5) & (men['OLIG_PROTE'] <=4), 'OLIG_PROTE_CATE']='4'\n",
    "men.loc[(men['OLIG_PROTE'] >4) & (men['OLIG_PROTE'] <=4.5),'OLIG_PROTE_CATE']='4'\n",
    "men.loc[(men['OLIG_PROTE'] >4.5) & (men['OLIG_PROTE'] <=5), 'OLIG_PROTE_CATE']='5'\n",
    "men.loc[(men['OLIG_PROTE'] >5) & (men['OLIG_PROTE'] <=5.5),'OLIG_PROTE_CATE']='5'\n",
    "men.loc[(men['OLIG_PROTE'] >5.5) & (men['OLIG_PROTE'] <=6.5), 'OLIG_PROTE_CATE']='6'\n",
    "men.loc[(men['SIGHT_LEFT_CATE'] >0) & (men['SIGHT_LEFT_CATE'] <=0.5),'SIGHT_LEFT_CATE']='0'"
   ]
  },
  {
   "cell_type": "code",
   "execution_count": null,
   "id": "qO8XcKa409xY",
   "metadata": {
    "id": "qO8XcKa409xY"
   },
   "outputs": [],
   "source": [
    "women.loc[(women['OLIG_PROTE'] >0) & (women['OLIG_PROTE'] <=1.5),'OLIG_PROTE_CATE']='1'\n",
    "women.loc[(women['OLIG_PROTE'] >1.5) & (women['OLIG_PROTE'] <=2), 'OLIG_PROTE_CATE']='2'\n",
    "women.loc[(women['OLIG_PROTE'] >2) & (women['OLIG_PROTE'] <=2.5),'OLIG_PROTE_CATE']='2'\n",
    "women.loc[(women['OLIG_PROTE'] >2.5) & (women['OLIG_PROTE'] <=3), 'OLIG_PROTE_CATE']='3'\n",
    "women.loc[(women['OLIG_PROTE']>3) & (women['OLIG_PROTE'] <=3.5),'OLIG_PROTE_CATE']='3'\n",
    "women.loc[(women['OLIG_PROTE'] >3.5) & (women['OLIG_PROTE'] <=4), 'OLIG_PROTE_CATE']='4'\n",
    "women.loc[(women['OLIG_PROTE'] >4) & (women['OLIG_PROTE'] <=4.5),'OLIG_PROTE_CATE']='4'\n",
    "women.loc[(women['OLIG_PROTE'] >4.5) & (women['OLIG_PROTE'] <=5), 'OLIG_PROTE_CATE']='5'\n",
    "women.loc[(women['OLIG_PROTE'] >5) & (women['OLIG_PROTE'] <=5.5),'OLIG_PROTE_CATE']='5'\n",
    "women.loc[(women['OLIG_PROTE'] >5.5) & (women['OLIG_PROTE'] <=6.5), 'OLIG_PROTE_CATE']='6'\n",
    "women.loc[(women['SIGHT_LEFT_CATE'] >0) & (women['SIGHT_LEFT_CATE'] <=0.5),'SIGHT_LEFT_CATE']='0'"
   ]
  },
  {
   "cell_type": "code",
   "execution_count": null,
   "id": "1db3zITh44kQ",
   "metadata": {
    "colab": {
     "base_uri": "https://localhost:8080/"
    },
    "id": "1db3zITh44kQ",
    "outputId": "feaa3d8e-1164-48e4-abbe-b8e2305c08cc"
   },
   "outputs": [
    {
     "name": "stdout",
     "output_type": "stream",
     "text": [
      "<class 'pandas.core.frame.DataFrame'>\n",
      "RangeIndex: 54646 entries, 0 to 54645\n",
      "Data columns (total 18 columns):\n",
      " #   Column            Non-Null Count  Dtype  \n",
      "---  ------            --------------  -----  \n",
      " 0   SEX               54646 non-null  float64\n",
      " 1   AGE               54646 non-null  float64\n",
      " 2   HEIGHT            54646 non-null  float64\n",
      " 3   WEIGHT            54646 non-null  float64\n",
      " 4   BP_HIGH           54646 non-null  float64\n",
      " 5   BP_LWST           54646 non-null  float64\n",
      " 6   BLDS              54646 non-null  float64\n",
      " 7   HMG               54646 non-null  float64\n",
      " 8   OLIG_PROTE        54646 non-null  float64\n",
      " 9   CREATININE        54646 non-null  float64\n",
      " 10  SGOT_AST          54646 non-null  float64\n",
      " 11  SGOT_ALT          54646 non-null  float64\n",
      " 12  GAMMA_GTP         54646 non-null  float64\n",
      " 13  DRK_YN            54646 non-null  float64\n",
      " 14  SMK_STAT          54646 non-null  float64\n",
      " 15  SIGHT_LEFT_CATE   54646 non-null  object \n",
      " 16  SIGHT_RIGHT_CATE  54646 non-null  float64\n",
      " 17  OLIG_PROTE_CATE   54646 non-null  object \n",
      "dtypes: float64(16), object(2)\n",
      "memory usage: 7.5+ MB\n"
     ]
    }
   ],
   "source": [
    "men.info()"
   ]
  },
  {
   "cell_type": "code",
   "execution_count": null,
   "id": "17d2bd54",
   "metadata": {
    "id": "17d2bd54"
   },
   "outputs": [],
   "source": [
    "#원래 있던 요단백 변수 제거\n",
    "men = men.drop(men.columns[8],axis=1)\n",
    "women = women.drop(women.columns[8],axis=1)"
   ]
  },
  {
   "cell_type": "code",
   "execution_count": null,
   "id": "4d48889c",
   "metadata": {
    "id": "4d48889c"
   },
   "outputs": [],
   "source": [
    "#새로 만들었던 가변수들 원래 변수명으로 변경\n",
    "men.rename(columns = {'SIGHT_LEFT_CATE':'SIGHT_LEFT','SIGHT_RIGHT_CATE':'SIGHT_RIGHT','OLIG_PROTE_CATE':'OLIG_PROTE'},inplace=True)\n",
    "women.rename(columns = {'SIGHT_LEFT_CATE':'SIGHT_LEFT','SIGHT_RIGHT_CATE':'SIGHT_RIGHT','OLIG_PROTE_CATE':'OLIG_PROTE'},inplace=True)"
   ]
  },
  {
   "cell_type": "code",
   "execution_count": null,
   "id": "3e10e74e",
   "metadata": {
    "id": "3e10e74e"
   },
   "outputs": [],
   "source": [
    "# 소수점 제거를 위해 범주형 데이터 int로 변경\n",
    "men= men.astype({'SEX':'int', 'SMK_STAT': 'int', 'HEIGHT': 'int', 'WEIGHT':'int'})\n",
    "men= men.astype({'AGE':'int', 'DRK_YN' : 'int','SIGHT_LEFT': 'int', 'SIGHT_RIGHT': 'int'})\n",
    "\n",
    "women= women.astype({'SEX':'int', 'SMK_STAT': 'int', 'HEIGHT': 'int', 'WEIGHT':'int'})\n",
    "women= women.astype({'AGE':'int', 'DRK_YN' : 'int','SIGHT_LEFT': 'int', 'SIGHT_RIGHT': 'int'})"
   ]
  },
  {
   "cell_type": "code",
   "execution_count": null,
   "id": "e9366df1",
   "metadata": {
    "id": "e9366df1"
   },
   "outputs": [],
   "source": [
    "# 범주형 데이터로 변환 남자\n",
    "men= men.astype({'SEX':'category', 'SMK_STAT': 'category', 'HEIGHT': 'category', 'WEIGHT':'category'})\n",
    "men= men.astype({'AGE':'category', 'DRK_YN': 'category', 'OLIG_PROTE' : 'category'})\n",
    "men = men.astype({'SIGHT_LEFT': 'category', 'SIGHT_RIGHT': 'category'})\n",
    "\n",
    "# 범주형 데이터로 변환 여자\n",
    "women= women.astype({'SEX':'category', 'SMK_STAT': 'category', 'HEIGHT': 'category', 'WEIGHT':'category'})\n",
    "women= women.astype({'AGE':'category', 'DRK_YN': 'category', 'OLIG_PROTE' : 'category'})\n",
    "women = women.astype({'SIGHT_LEFT': 'category', 'SIGHT_RIGHT': 'category'})"
   ]
  },
  {
   "cell_type": "code",
   "execution_count": null,
   "id": "c7b1dc49",
   "metadata": {
    "colab": {
     "base_uri": "https://localhost:8080/",
     "height": 364
    },
    "id": "c7b1dc49",
    "outputId": "7acfe25e-d652-4c15-ba7d-a872f1bac0e8"
   },
   "outputs": [
    {
     "data": {
      "text/html": [
       "\n",
       "  <div id=\"df-42788be7-c0ed-48ae-90a6-f3d97b0c5032\">\n",
       "    <div class=\"colab-df-container\">\n",
       "      <div>\n",
       "<style scoped>\n",
       "    .dataframe tbody tr th:only-of-type {\n",
       "        vertical-align: middle;\n",
       "    }\n",
       "\n",
       "    .dataframe tbody tr th {\n",
       "        vertical-align: top;\n",
       "    }\n",
       "\n",
       "    .dataframe thead th {\n",
       "        text-align: right;\n",
       "    }\n",
       "</style>\n",
       "<table border=\"1\" class=\"dataframe\">\n",
       "  <thead>\n",
       "    <tr style=\"text-align: right;\">\n",
       "      <th></th>\n",
       "      <th>BP_HIGH</th>\n",
       "      <th>BP_LWST</th>\n",
       "      <th>BLDS</th>\n",
       "      <th>HMG</th>\n",
       "      <th>CREATININE</th>\n",
       "      <th>SGOT_AST</th>\n",
       "      <th>SGOT_ALT</th>\n",
       "      <th>GAMMA_GTP</th>\n",
       "    </tr>\n",
       "  </thead>\n",
       "  <tbody>\n",
       "    <tr>\n",
       "      <th>count</th>\n",
       "      <td>54646.000000</td>\n",
       "      <td>54646.000000</td>\n",
       "      <td>54646.000000</td>\n",
       "      <td>54646.000000</td>\n",
       "      <td>54646.000000</td>\n",
       "      <td>54646.000000</td>\n",
       "      <td>54646.000000</td>\n",
       "      <td>54646.000000</td>\n",
       "    </tr>\n",
       "    <tr>\n",
       "      <th>mean</th>\n",
       "      <td>119.579042</td>\n",
       "      <td>79.451793</td>\n",
       "      <td>101.322681</td>\n",
       "      <td>13.235947</td>\n",
       "      <td>1.239784</td>\n",
       "      <td>9.865177</td>\n",
       "      <td>16.982534</td>\n",
       "      <td>48.753769</td>\n",
       "    </tr>\n",
       "    <tr>\n",
       "      <th>std</th>\n",
       "      <td>17.050584</td>\n",
       "      <td>10.993215</td>\n",
       "      <td>22.045958</td>\n",
       "      <td>1.037961</td>\n",
       "      <td>0.629530</td>\n",
       "      <td>12.528698</td>\n",
       "      <td>20.659686</td>\n",
       "      <td>61.367527</td>\n",
       "    </tr>\n",
       "    <tr>\n",
       "      <th>min</th>\n",
       "      <td>63.000000</td>\n",
       "      <td>40.000000</td>\n",
       "      <td>41.000000</td>\n",
       "      <td>4.700000</td>\n",
       "      <td>0.100000</td>\n",
       "      <td>1.000000</td>\n",
       "      <td>1.000000</td>\n",
       "      <td>1.000000</td>\n",
       "    </tr>\n",
       "    <tr>\n",
       "      <th>25%</th>\n",
       "      <td>108.203008</td>\n",
       "      <td>70.432203</td>\n",
       "      <td>90.732984</td>\n",
       "      <td>12.662500</td>\n",
       "      <td>1.011248</td>\n",
       "      <td>6.998992</td>\n",
       "      <td>9.888280</td>\n",
       "      <td>21.020060</td>\n",
       "    </tr>\n",
       "    <tr>\n",
       "      <th>50%</th>\n",
       "      <td>118.248120</td>\n",
       "      <td>79.449153</td>\n",
       "      <td>96.633508</td>\n",
       "      <td>13.275000</td>\n",
       "      <td>1.271605</td>\n",
       "      <td>8.665378</td>\n",
       "      <td>13.548160</td>\n",
       "      <td>31.030090</td>\n",
       "    </tr>\n",
       "    <tr>\n",
       "      <th>75%</th>\n",
       "      <td>129.548872</td>\n",
       "      <td>86.211864</td>\n",
       "      <td>105.062827</td>\n",
       "      <td>13.887500</td>\n",
       "      <td>1.401783</td>\n",
       "      <td>10.665042</td>\n",
       "      <td>19.299400</td>\n",
       "      <td>53.052156</td>\n",
       "    </tr>\n",
       "    <tr>\n",
       "      <th>max</th>\n",
       "      <td>230.000000</td>\n",
       "      <td>173.000000</td>\n",
       "      <td>524.000000</td>\n",
       "      <td>19.400000</td>\n",
       "      <td>95.000000</td>\n",
       "      <td>1984.000000</td>\n",
       "      <td>2004.000000</td>\n",
       "      <td>999.000000</td>\n",
       "    </tr>\n",
       "  </tbody>\n",
       "</table>\n",
       "</div>\n",
       "      <button class=\"colab-df-convert\" onclick=\"convertToInteractive('df-42788be7-c0ed-48ae-90a6-f3d97b0c5032')\"\n",
       "              title=\"Convert this dataframe to an interactive table.\"\n",
       "              style=\"display:none;\">\n",
       "        \n",
       "  <svg xmlns=\"http://www.w3.org/2000/svg\" height=\"24px\"viewBox=\"0 0 24 24\"\n",
       "       width=\"24px\">\n",
       "    <path d=\"M0 0h24v24H0V0z\" fill=\"none\"/>\n",
       "    <path d=\"M18.56 5.44l.94 2.06.94-2.06 2.06-.94-2.06-.94-.94-2.06-.94 2.06-2.06.94zm-11 1L8.5 8.5l.94-2.06 2.06-.94-2.06-.94L8.5 2.5l-.94 2.06-2.06.94zm10 10l.94 2.06.94-2.06 2.06-.94-2.06-.94-.94-2.06-.94 2.06-2.06.94z\"/><path d=\"M17.41 7.96l-1.37-1.37c-.4-.4-.92-.59-1.43-.59-.52 0-1.04.2-1.43.59L10.3 9.45l-7.72 7.72c-.78.78-.78 2.05 0 2.83L4 21.41c.39.39.9.59 1.41.59.51 0 1.02-.2 1.41-.59l7.78-7.78 2.81-2.81c.8-.78.8-2.07 0-2.86zM5.41 20L4 18.59l7.72-7.72 1.47 1.35L5.41 20z\"/>\n",
       "  </svg>\n",
       "      </button>\n",
       "      \n",
       "  <style>\n",
       "    .colab-df-container {\n",
       "      display:flex;\n",
       "      flex-wrap:wrap;\n",
       "      gap: 12px;\n",
       "    }\n",
       "\n",
       "    .colab-df-convert {\n",
       "      background-color: #E8F0FE;\n",
       "      border: none;\n",
       "      border-radius: 50%;\n",
       "      cursor: pointer;\n",
       "      display: none;\n",
       "      fill: #1967D2;\n",
       "      height: 32px;\n",
       "      padding: 0 0 0 0;\n",
       "      width: 32px;\n",
       "    }\n",
       "\n",
       "    .colab-df-convert:hover {\n",
       "      background-color: #E2EBFA;\n",
       "      box-shadow: 0px 1px 2px rgba(60, 64, 67, 0.3), 0px 1px 3px 1px rgba(60, 64, 67, 0.15);\n",
       "      fill: #174EA6;\n",
       "    }\n",
       "\n",
       "    [theme=dark] .colab-df-convert {\n",
       "      background-color: #3B4455;\n",
       "      fill: #D2E3FC;\n",
       "    }\n",
       "\n",
       "    [theme=dark] .colab-df-convert:hover {\n",
       "      background-color: #434B5C;\n",
       "      box-shadow: 0px 1px 3px 1px rgba(0, 0, 0, 0.15);\n",
       "      filter: drop-shadow(0px 1px 2px rgba(0, 0, 0, 0.3));\n",
       "      fill: #FFFFFF;\n",
       "    }\n",
       "  </style>\n",
       "\n",
       "      <script>\n",
       "        const buttonEl =\n",
       "          document.querySelector('#df-42788be7-c0ed-48ae-90a6-f3d97b0c5032 button.colab-df-convert');\n",
       "        buttonEl.style.display =\n",
       "          google.colab.kernel.accessAllowed ? 'block' : 'none';\n",
       "\n",
       "        async function convertToInteractive(key) {\n",
       "          const element = document.querySelector('#df-42788be7-c0ed-48ae-90a6-f3d97b0c5032');\n",
       "          const dataTable =\n",
       "            await google.colab.kernel.invokeFunction('convertToInteractive',\n",
       "                                                     [key], {});\n",
       "          if (!dataTable) return;\n",
       "\n",
       "          const docLinkHtml = 'Like what you see? Visit the ' +\n",
       "            '<a target=\"_blank\" href=https://colab.research.google.com/notebooks/data_table.ipynb>data table notebook</a>'\n",
       "            + ' to learn more about interactive tables.';\n",
       "          element.innerHTML = '';\n",
       "          dataTable['output_type'] = 'display_data';\n",
       "          await google.colab.output.renderOutput(dataTable, element);\n",
       "          const docLink = document.createElement('div');\n",
       "          docLink.innerHTML = docLinkHtml;\n",
       "          element.appendChild(docLink);\n",
       "        }\n",
       "      </script>\n",
       "    </div>\n",
       "  </div>\n",
       "  "
      ],
      "text/plain": [
       "            BP_HIGH       BP_LWST          BLDS           HMG    CREATININE  \\\n",
       "count  54646.000000  54646.000000  54646.000000  54646.000000  54646.000000   \n",
       "mean     119.579042     79.451793    101.322681     13.235947      1.239784   \n",
       "std       17.050584     10.993215     22.045958      1.037961      0.629530   \n",
       "min       63.000000     40.000000     41.000000      4.700000      0.100000   \n",
       "25%      108.203008     70.432203     90.732984     12.662500      1.011248   \n",
       "50%      118.248120     79.449153     96.633508     13.275000      1.271605   \n",
       "75%      129.548872     86.211864    105.062827     13.887500      1.401783   \n",
       "max      230.000000    173.000000    524.000000     19.400000     95.000000   \n",
       "\n",
       "           SGOT_AST      SGOT_ALT     GAMMA_GTP  \n",
       "count  54646.000000  54646.000000  54646.000000  \n",
       "mean       9.865177     16.982534     48.753769  \n",
       "std       12.528698     20.659686     61.367527  \n",
       "min        1.000000      1.000000      1.000000  \n",
       "25%        6.998992      9.888280     21.020060  \n",
       "50%        8.665378     13.548160     31.030090  \n",
       "75%       10.665042     19.299400     53.052156  \n",
       "max     1984.000000   2004.000000    999.000000  "
      ]
     },
     "execution_count": 336,
     "metadata": {},
     "output_type": "execute_result"
    }
   ],
   "source": [
    "men.describe()\n"
   ]
  },
  {
   "cell_type": "markdown",
   "id": "44969afa",
   "metadata": {
    "id": "44969afa"
   },
   "source": [
    "# 이상치 제거"
   ]
  },
  {
   "cell_type": "code",
   "execution_count": null,
   "id": "35efcac0",
   "metadata": {
    "id": "35efcac0"
   },
   "outputs": [],
   "source": [
    "#이상치를 결측치로\n",
    "men.loc[men['HMG'] < 5, 'HMG']=np.NaN\n",
    "men.loc[men['HMG'] >=20,'HMG']= np.NaN\n",
    "men.loc[men['BP_HIGH'] <= 40,'BP_HIGH']=np.nan\n",
    "men.loc[men['BP_HIGH'] >= 180,'BP_HIGH']=np.nan\n",
    "men.loc[men['BP_LWST'] <= 40,'BP_LWST']=np.nan\n",
    "men.loc[men['BP_LWST'] >= 180,'BP_LWST']=np.nan\n",
    "men.loc[men['CREATININE'] >= 70, 'CREATININE']=np.nan\n",
    "men.loc[men['SGOT_AST'] >= 10000, 'SGOT_AST']=np.nan\n",
    "men.loc[men['SGOT_ALT'] >= 10000, 'SGOT_ALT']=np.nan\n",
    "men.loc[men['SMK_STAT'] == 2, 'SMK_STAT']=np.nan\n",
    "men.loc[(men['SEX']==1) & (men['GAMMA_GTP'] >= 550), 'GAMMA_GTP']=np.nan\n",
    "men.loc[men['BLDS'] >= 300, 'BLDS']=np.NaN\n",
    "\n",
    "\n",
    "#여자\n",
    "women.loc[women['HMG'] < 5, 'HMG']=np.NaN\n",
    "women.loc[women['HMG'] >=20,'HMG']= np.NaN\n",
    "women.loc[women['BP_HIGH'] <= 40,'BP_HIGH']=np.nan\n",
    "women.loc[women['BP_HIGH'] >= 180,'BP_HIGH']=np.nan\n",
    "women.loc[women['BP_LWST'] <= 40,'BP_LWST']=np.nan\n",
    "women.loc[women['BP_LWST'] >= 180,'BP_LWST']=np.nan\n",
    "women.loc[women['CREATININE'] >= 70, 'CREATININE']=np.nan\n",
    "women.loc[women['SGOT_AST'] >= 10000, 'SGOT_AST']=np.nan\n",
    "women.loc[women['SGOT_ALT'] >= 10000, 'SGOT_ALT']=np.nan\n",
    "women.loc[women['SMK_STAT'] == 2, 'SMK_STAT']=np.nan\n",
    "women.loc[(women['SEX']==2) & (women['GAMMA_GTP'] >= 380), 'GAMMA_GTP']=np.nan\n",
    "women.loc[women['BLDS'] >= 300, 'BLDS']=np.NaN\n"
   ]
  },
  {
   "cell_type": "code",
   "execution_count": null,
   "id": "4XxJuty49LF2",
   "metadata": {
    "colab": {
     "base_uri": "https://localhost:8080/",
     "height": 269
    },
    "id": "4XxJuty49LF2",
    "outputId": "c9396b3f-d207-4dc9-fe43-2465be2c9c72"
   },
   "outputs": [
    {
     "data": {
      "text/html": [
       "\n",
       "  <div id=\"df-be22a381-0930-4ffb-ba50-2afe0766ccae\">\n",
       "    <div class=\"colab-df-container\">\n",
       "      <div>\n",
       "<style scoped>\n",
       "    .dataframe tbody tr th:only-of-type {\n",
       "        vertical-align: middle;\n",
       "    }\n",
       "\n",
       "    .dataframe tbody tr th {\n",
       "        vertical-align: top;\n",
       "    }\n",
       "\n",
       "    .dataframe thead th {\n",
       "        text-align: right;\n",
       "    }\n",
       "</style>\n",
       "<table border=\"1\" class=\"dataframe\">\n",
       "  <thead>\n",
       "    <tr style=\"text-align: right;\">\n",
       "      <th></th>\n",
       "      <th>column</th>\n",
       "      <th>count</th>\n",
       "      <th>ratio</th>\n",
       "    </tr>\n",
       "  </thead>\n",
       "  <tbody>\n",
       "    <tr>\n",
       "      <th>4</th>\n",
       "      <td>BP_HIGH</td>\n",
       "      <td>90</td>\n",
       "      <td>0.001984</td>\n",
       "    </tr>\n",
       "    <tr>\n",
       "      <th>5</th>\n",
       "      <td>BP_LWST</td>\n",
       "      <td>1</td>\n",
       "      <td>0.000022</td>\n",
       "    </tr>\n",
       "    <tr>\n",
       "      <th>6</th>\n",
       "      <td>BLDS</td>\n",
       "      <td>47</td>\n",
       "      <td>0.001036</td>\n",
       "    </tr>\n",
       "    <tr>\n",
       "      <th>7</th>\n",
       "      <td>HMG</td>\n",
       "      <td>1</td>\n",
       "      <td>0.000022</td>\n",
       "    </tr>\n",
       "    <tr>\n",
       "      <th>8</th>\n",
       "      <td>CREATININE</td>\n",
       "      <td>1</td>\n",
       "      <td>0.000022</td>\n",
       "    </tr>\n",
       "    <tr>\n",
       "      <th>11</th>\n",
       "      <td>GAMMA_GTP</td>\n",
       "      <td>46</td>\n",
       "      <td>0.001014</td>\n",
       "    </tr>\n",
       "    <tr>\n",
       "      <th>13</th>\n",
       "      <td>SMK_STAT</td>\n",
       "      <td>1340</td>\n",
       "      <td>0.029545</td>\n",
       "    </tr>\n",
       "  </tbody>\n",
       "</table>\n",
       "</div>\n",
       "      <button class=\"colab-df-convert\" onclick=\"convertToInteractive('df-be22a381-0930-4ffb-ba50-2afe0766ccae')\"\n",
       "              title=\"Convert this dataframe to an interactive table.\"\n",
       "              style=\"display:none;\">\n",
       "        \n",
       "  <svg xmlns=\"http://www.w3.org/2000/svg\" height=\"24px\"viewBox=\"0 0 24 24\"\n",
       "       width=\"24px\">\n",
       "    <path d=\"M0 0h24v24H0V0z\" fill=\"none\"/>\n",
       "    <path d=\"M18.56 5.44l.94 2.06.94-2.06 2.06-.94-2.06-.94-.94-2.06-.94 2.06-2.06.94zm-11 1L8.5 8.5l.94-2.06 2.06-.94-2.06-.94L8.5 2.5l-.94 2.06-2.06.94zm10 10l.94 2.06.94-2.06 2.06-.94-2.06-.94-.94-2.06-.94 2.06-2.06.94z\"/><path d=\"M17.41 7.96l-1.37-1.37c-.4-.4-.92-.59-1.43-.59-.52 0-1.04.2-1.43.59L10.3 9.45l-7.72 7.72c-.78.78-.78 2.05 0 2.83L4 21.41c.39.39.9.59 1.41.59.51 0 1.02-.2 1.41-.59l7.78-7.78 2.81-2.81c.8-.78.8-2.07 0-2.86zM5.41 20L4 18.59l7.72-7.72 1.47 1.35L5.41 20z\"/>\n",
       "  </svg>\n",
       "      </button>\n",
       "      \n",
       "  <style>\n",
       "    .colab-df-container {\n",
       "      display:flex;\n",
       "      flex-wrap:wrap;\n",
       "      gap: 12px;\n",
       "    }\n",
       "\n",
       "    .colab-df-convert {\n",
       "      background-color: #E8F0FE;\n",
       "      border: none;\n",
       "      border-radius: 50%;\n",
       "      cursor: pointer;\n",
       "      display: none;\n",
       "      fill: #1967D2;\n",
       "      height: 32px;\n",
       "      padding: 0 0 0 0;\n",
       "      width: 32px;\n",
       "    }\n",
       "\n",
       "    .colab-df-convert:hover {\n",
       "      background-color: #E2EBFA;\n",
       "      box-shadow: 0px 1px 2px rgba(60, 64, 67, 0.3), 0px 1px 3px 1px rgba(60, 64, 67, 0.15);\n",
       "      fill: #174EA6;\n",
       "    }\n",
       "\n",
       "    [theme=dark] .colab-df-convert {\n",
       "      background-color: #3B4455;\n",
       "      fill: #D2E3FC;\n",
       "    }\n",
       "\n",
       "    [theme=dark] .colab-df-convert:hover {\n",
       "      background-color: #434B5C;\n",
       "      box-shadow: 0px 1px 3px 1px rgba(0, 0, 0, 0.15);\n",
       "      filter: drop-shadow(0px 1px 2px rgba(0, 0, 0, 0.3));\n",
       "      fill: #FFFFFF;\n",
       "    }\n",
       "  </style>\n",
       "\n",
       "      <script>\n",
       "        const buttonEl =\n",
       "          document.querySelector('#df-be22a381-0930-4ffb-ba50-2afe0766ccae button.colab-df-convert');\n",
       "        buttonEl.style.display =\n",
       "          google.colab.kernel.accessAllowed ? 'block' : 'none';\n",
       "\n",
       "        async function convertToInteractive(key) {\n",
       "          const element = document.querySelector('#df-be22a381-0930-4ffb-ba50-2afe0766ccae');\n",
       "          const dataTable =\n",
       "            await google.colab.kernel.invokeFunction('convertToInteractive',\n",
       "                                                     [key], {});\n",
       "          if (!dataTable) return;\n",
       "\n",
       "          const docLinkHtml = 'Like what you see? Visit the ' +\n",
       "            '<a target=\"_blank\" href=https://colab.research.google.com/notebooks/data_table.ipynb>data table notebook</a>'\n",
       "            + ' to learn more about interactive tables.';\n",
       "          element.innerHTML = '';\n",
       "          dataTable['output_type'] = 'display_data';\n",
       "          await google.colab.output.renderOutput(dataTable, element);\n",
       "          const docLink = document.createElement('div');\n",
       "          docLink.innerHTML = docLinkHtml;\n",
       "          element.appendChild(docLink);\n",
       "        }\n",
       "      </script>\n",
       "    </div>\n",
       "  </div>\n",
       "  "
      ],
      "text/plain": [
       "        column  count     ratio\n",
       "4      BP_HIGH     90  0.001984\n",
       "5      BP_LWST      1  0.000022\n",
       "6         BLDS     47  0.001036\n",
       "7          HMG      1  0.000022\n",
       "8   CREATININE      1  0.000022\n",
       "11   GAMMA_GTP     46  0.001014\n",
       "13    SMK_STAT   1340  0.029545"
      ]
     },
     "execution_count": 338,
     "metadata": {},
     "output_type": "execute_result"
    }
   ],
   "source": [
    "#결측치 및 전체 데이터 중 비중 확인 여자\n",
    "missing_df = women.isnull().sum().reset_index()\n",
    "missing_df.columns=['column','count']\n",
    "missing_df['ratio']= missing_df['count'] / women.shape[0]\n",
    "missing_df.loc[missing_df['ratio']!=0]"
   ]
  },
  {
   "cell_type": "code",
   "execution_count": null,
   "id": "657ccf08",
   "metadata": {
    "colab": {
     "base_uri": "https://localhost:8080/",
     "height": 238
    },
    "id": "657ccf08",
    "outputId": "59806c27-b311-4c7d-8b72-896d5aeb1c87"
   },
   "outputs": [
    {
     "data": {
      "text/html": [
       "\n",
       "  <div id=\"df-77f50e0c-fb04-42d8-a198-1971bdc1c8a4\">\n",
       "    <div class=\"colab-df-container\">\n",
       "      <div>\n",
       "<style scoped>\n",
       "    .dataframe tbody tr th:only-of-type {\n",
       "        vertical-align: middle;\n",
       "    }\n",
       "\n",
       "    .dataframe tbody tr th {\n",
       "        vertical-align: top;\n",
       "    }\n",
       "\n",
       "    .dataframe thead th {\n",
       "        text-align: right;\n",
       "    }\n",
       "</style>\n",
       "<table border=\"1\" class=\"dataframe\">\n",
       "  <thead>\n",
       "    <tr style=\"text-align: right;\">\n",
       "      <th></th>\n",
       "      <th>column</th>\n",
       "      <th>count</th>\n",
       "      <th>ratio</th>\n",
       "    </tr>\n",
       "  </thead>\n",
       "  <tbody>\n",
       "    <tr>\n",
       "      <th>4</th>\n",
       "      <td>BP_HIGH</td>\n",
       "      <td>165</td>\n",
       "      <td>0.003019</td>\n",
       "    </tr>\n",
       "    <tr>\n",
       "      <th>5</th>\n",
       "      <td>BP_LWST</td>\n",
       "      <td>2</td>\n",
       "      <td>0.000037</td>\n",
       "    </tr>\n",
       "    <tr>\n",
       "      <th>6</th>\n",
       "      <td>BLDS</td>\n",
       "      <td>51</td>\n",
       "      <td>0.000933</td>\n",
       "    </tr>\n",
       "    <tr>\n",
       "      <th>7</th>\n",
       "      <td>HMG</td>\n",
       "      <td>2</td>\n",
       "      <td>0.000037</td>\n",
       "    </tr>\n",
       "    <tr>\n",
       "      <th>8</th>\n",
       "      <td>CREATININE</td>\n",
       "      <td>1</td>\n",
       "      <td>0.000018</td>\n",
       "    </tr>\n",
       "    <tr>\n",
       "      <th>13</th>\n",
       "      <td>SMK_STAT</td>\n",
       "      <td>18536</td>\n",
       "      <td>0.339201</td>\n",
       "    </tr>\n",
       "  </tbody>\n",
       "</table>\n",
       "</div>\n",
       "      <button class=\"colab-df-convert\" onclick=\"convertToInteractive('df-77f50e0c-fb04-42d8-a198-1971bdc1c8a4')\"\n",
       "              title=\"Convert this dataframe to an interactive table.\"\n",
       "              style=\"display:none;\">\n",
       "        \n",
       "  <svg xmlns=\"http://www.w3.org/2000/svg\" height=\"24px\"viewBox=\"0 0 24 24\"\n",
       "       width=\"24px\">\n",
       "    <path d=\"M0 0h24v24H0V0z\" fill=\"none\"/>\n",
       "    <path d=\"M18.56 5.44l.94 2.06.94-2.06 2.06-.94-2.06-.94-.94-2.06-.94 2.06-2.06.94zm-11 1L8.5 8.5l.94-2.06 2.06-.94-2.06-.94L8.5 2.5l-.94 2.06-2.06.94zm10 10l.94 2.06.94-2.06 2.06-.94-2.06-.94-.94-2.06-.94 2.06-2.06.94z\"/><path d=\"M17.41 7.96l-1.37-1.37c-.4-.4-.92-.59-1.43-.59-.52 0-1.04.2-1.43.59L10.3 9.45l-7.72 7.72c-.78.78-.78 2.05 0 2.83L4 21.41c.39.39.9.59 1.41.59.51 0 1.02-.2 1.41-.59l7.78-7.78 2.81-2.81c.8-.78.8-2.07 0-2.86zM5.41 20L4 18.59l7.72-7.72 1.47 1.35L5.41 20z\"/>\n",
       "  </svg>\n",
       "      </button>\n",
       "      \n",
       "  <style>\n",
       "    .colab-df-container {\n",
       "      display:flex;\n",
       "      flex-wrap:wrap;\n",
       "      gap: 12px;\n",
       "    }\n",
       "\n",
       "    .colab-df-convert {\n",
       "      background-color: #E8F0FE;\n",
       "      border: none;\n",
       "      border-radius: 50%;\n",
       "      cursor: pointer;\n",
       "      display: none;\n",
       "      fill: #1967D2;\n",
       "      height: 32px;\n",
       "      padding: 0 0 0 0;\n",
       "      width: 32px;\n",
       "    }\n",
       "\n",
       "    .colab-df-convert:hover {\n",
       "      background-color: #E2EBFA;\n",
       "      box-shadow: 0px 1px 2px rgba(60, 64, 67, 0.3), 0px 1px 3px 1px rgba(60, 64, 67, 0.15);\n",
       "      fill: #174EA6;\n",
       "    }\n",
       "\n",
       "    [theme=dark] .colab-df-convert {\n",
       "      background-color: #3B4455;\n",
       "      fill: #D2E3FC;\n",
       "    }\n",
       "\n",
       "    [theme=dark] .colab-df-convert:hover {\n",
       "      background-color: #434B5C;\n",
       "      box-shadow: 0px 1px 3px 1px rgba(0, 0, 0, 0.15);\n",
       "      filter: drop-shadow(0px 1px 2px rgba(0, 0, 0, 0.3));\n",
       "      fill: #FFFFFF;\n",
       "    }\n",
       "  </style>\n",
       "\n",
       "      <script>\n",
       "        const buttonEl =\n",
       "          document.querySelector('#df-77f50e0c-fb04-42d8-a198-1971bdc1c8a4 button.colab-df-convert');\n",
       "        buttonEl.style.display =\n",
       "          google.colab.kernel.accessAllowed ? 'block' : 'none';\n",
       "\n",
       "        async function convertToInteractive(key) {\n",
       "          const element = document.querySelector('#df-77f50e0c-fb04-42d8-a198-1971bdc1c8a4');\n",
       "          const dataTable =\n",
       "            await google.colab.kernel.invokeFunction('convertToInteractive',\n",
       "                                                     [key], {});\n",
       "          if (!dataTable) return;\n",
       "\n",
       "          const docLinkHtml = 'Like what you see? Visit the ' +\n",
       "            '<a target=\"_blank\" href=https://colab.research.google.com/notebooks/data_table.ipynb>data table notebook</a>'\n",
       "            + ' to learn more about interactive tables.';\n",
       "          element.innerHTML = '';\n",
       "          dataTable['output_type'] = 'display_data';\n",
       "          await google.colab.output.renderOutput(dataTable, element);\n",
       "          const docLink = document.createElement('div');\n",
       "          docLink.innerHTML = docLinkHtml;\n",
       "          element.appendChild(docLink);\n",
       "        }\n",
       "      </script>\n",
       "    </div>\n",
       "  </div>\n",
       "  "
      ],
      "text/plain": [
       "        column  count     ratio\n",
       "4      BP_HIGH    165  0.003019\n",
       "5      BP_LWST      2  0.000037\n",
       "6         BLDS     51  0.000933\n",
       "7          HMG      2  0.000037\n",
       "8   CREATININE      1  0.000018\n",
       "13    SMK_STAT  18536  0.339201"
      ]
     },
     "execution_count": 339,
     "metadata": {},
     "output_type": "execute_result"
    }
   ],
   "source": [
    "#결측치 및 전체 데이터 중 비중 확인 남자\n",
    "missing_df = men.isnull().sum().reset_index()\n",
    "missing_df.columns=['column','count']\n",
    "missing_df['ratio']= missing_df['count'] / men.shape[0]\n",
    "missing_df.loc[missing_df['ratio']!=0]\n"
   ]
  },
  {
   "cell_type": "markdown",
   "id": "cfc6f412",
   "metadata": {
    "id": "cfc6f412"
   },
   "source": [
    "다시 위에 결측치 KNN 실행"
   ]
  },
  {
   "cell_type": "code",
   "execution_count": null,
   "id": "9a58aab3",
   "metadata": {
    "colab": {
     "base_uri": "https://localhost:8080/"
    },
    "id": "9a58aab3",
    "outputId": "5771a674-0618-43e6-f5cd-b39851610956"
   },
   "outputs": [
    {
     "name": "stdout",
     "output_type": "stream",
     "text": [
      "<class 'pandas.core.frame.DataFrame'>\n",
      "RangeIndex: 54646 entries, 0 to 54645\n",
      "Data columns (total 17 columns):\n",
      " #   Column       Non-Null Count  Dtype   \n",
      "---  ------       --------------  -----   \n",
      " 0   SEX          54646 non-null  category\n",
      " 1   AGE          54646 non-null  category\n",
      " 2   HEIGHT       54646 non-null  category\n",
      " 3   WEIGHT       54646 non-null  category\n",
      " 4   BP_HIGH      54481 non-null  float64 \n",
      " 5   BP_LWST      54644 non-null  float64 \n",
      " 6   BLDS         54595 non-null  float64 \n",
      " 7   HMG          54644 non-null  float64 \n",
      " 8   CREATININE   54645 non-null  float64 \n",
      " 9   SGOT_AST     54646 non-null  float64 \n",
      " 10  SGOT_ALT     54646 non-null  float64 \n",
      " 11  GAMMA_GTP    54646 non-null  float64 \n",
      " 12  DRK_YN       54646 non-null  category\n",
      " 13  SMK_STAT     36110 non-null  category\n",
      " 14  SIGHT_LEFT   54646 non-null  category\n",
      " 15  SIGHT_RIGHT  54646 non-null  category\n",
      " 16  OLIG_PROTE   54646 non-null  category\n",
      "dtypes: category(9), float64(8)\n",
      "memory usage: 3.8 MB\n"
     ]
    }
   ],
   "source": [
    "men.info()"
   ]
  },
  {
   "cell_type": "code",
   "execution_count": null,
   "id": "b1020280",
   "metadata": {
    "colab": {
     "base_uri": "https://localhost:8080/"
    },
    "id": "b1020280",
    "outputId": "7d1df289-75bc-4f1a-fd7f-e883487ae3ed"
   },
   "outputs": [
    {
     "data": {
      "text/plain": [
       "1.0    92977\n",
       "2.0     3377\n",
       "3.0     1759\n",
       "4.0      620\n",
       "5.0      187\n",
       "6.0       53\n",
       "Name: OLIG_PROTE, dtype: int64"
      ]
     },
     "execution_count": 341,
     "metadata": {},
     "output_type": "execute_result"
    }
   ],
   "source": [
    "train['OLIG_PROTE'].value_counts()"
   ]
  },
  {
   "cell_type": "code",
   "execution_count": null,
   "id": "b3c6feec",
   "metadata": {
    "id": "b3c6feec"
   },
   "outputs": [],
   "source": [
    "#KNN 이용에 앞서 정규화\n",
    "from sklearn.preprocessing import MinMaxScaler\n",
    "scaler=MinMaxScaler()\n",
    "men= pd.DataFrame(scaler.fit_transform(men), columns= men.columns)\n",
    "women= pd.DataFrame(scaler.fit_transform(women), columns= women.columns)\n",
    "\n"
   ]
  },
  {
   "cell_type": "code",
   "execution_count": null,
   "id": "Tg2O5DoHbvdy",
   "metadata": {
    "id": "Tg2O5DoHbvdy"
   },
   "outputs": [],
   "source": [
    "#KNN 이용에 앞서 정규화\n",
    "from sklearn.preprocessing import MinMaxScaler\n",
    "scaler=MinMaxScaler()\n",
    "men= pd.DataFrame(scaler.fit_transform(men), columns= men.columns)\n",
    "women= pd.DataFrame(scaler.fit_transform(women), columns= women.columns)\n",
    "\n",
    "# 인접이웃 3개를 기준으로 결측치 대체\n",
    "from sklearn.impute import KNNImputer\n",
    "imputer =KNNImputer(n_neighbors=3)\n",
    "men=pd.DataFrame(imputer.fit_transform(men), columns=men.columns)\n",
    "women=pd.DataFrame(imputer.fit_transform(women), columns=women.columns)\n",
    "\n",
    "# 정규화된 데이터 역 정규화\n",
    "men= pd.DataFrame(scaler.inverse_transform(men), columns=men.columns)\n",
    "women= pd.DataFrame(scaler.inverse_transform(women), columns=women.columns)\n",
    "\n",
    "\n",
    "men= men.astype({'SMK_STAT': 'float'})\n",
    "women= women.astype({'SMK_STAT': 'float'})\n",
    "\n",
    "\n",
    "men.loc[(men['SMK_STAT'] >0) & (men['SMK_STAT'] <=0.5),'SMK_STAT']='0'\n",
    "men.loc[(men['SMK_STAT'] >0.5) & (men['SMK_STAT'] <=1.5), 'SMK_STAT']='1'\n",
    "women.loc[(women['SMK_STAT'] >0) & (women['SMK_STAT'] <=0.5),'SMK_STAT']='0'\n",
    "women.loc[(women['SMK_STAT'] >0.5) & (women['SMK_STAT'] <=1.5), 'SMK_STAT']='1'\n",
    "\n",
    "# 소수점 제거를 위해 범주형 데이터 int로 변경\n",
    "men= men.astype({'SEX':'int', 'SMK_STAT': 'int', 'HEIGHT': 'int', 'WEIGHT':'int'})\n",
    "men= men.astype({'AGE':'int', 'DRK_YN' : 'int','SIGHT_LEFT': 'int', 'SIGHT_RIGHT': 'int'})\n",
    "\n",
    "\n",
    "# 소수점 제거를 위해 범주형 데이터 int로 변경\n",
    "women= women.astype({'SEX':'int', 'SMK_STAT': 'int', 'HEIGHT': 'int', 'WEIGHT':'int'})\n",
    "women= women.astype({'AGE':'int', 'DRK_YN' : 'int','SIGHT_LEFT':'int'})\n",
    "\n",
    "\n",
    "\n",
    "# 범주형 데이터로 변환\n",
    "men= men.astype({'SEX':'category', 'SMK_STAT': 'category', 'HEIGHT': 'category', 'WEIGHT':'category'})\n",
    "men= men.astype({'AGE':'category', 'DRK_YN': 'category', 'OLIG_PROTE' : 'category'})\n",
    "men =men.astype({'SIGHT_LEFT': 'category', 'SIGHT_RIGHT': 'category'})\n",
    "\n",
    "\n",
    "# 범주형 데이터로 변환\n",
    "women= women.astype({'SEX':'category', 'SMK_STAT': 'category', 'HEIGHT': 'category', 'WEIGHT':'category'})\n",
    "women= women.astype({'AGE':'category', 'DRK_YN': 'category', 'OLIG_PROTE' : 'category'})\n",
    "women =women.astype({'SIGHT_LEFT': 'category', 'SIGHT_RIGHT': 'category'})"
   ]
  },
  {
   "cell_type": "code",
   "execution_count": null,
   "id": "9154af4f",
   "metadata": {
    "id": "9154af4f"
   },
   "outputs": [],
   "source": [
    "# 인접이웃 3개를 기준으로 결측치 대체\n",
    "from sklearn.impute import KNNImputer\n",
    "imputer =KNNImputer(n_neighbors=3)\n",
    "men=pd.DataFrame(imputer.fit_transform(men), columns=men.columns)\n",
    "women=pd.DataFrame(imputer.fit_transform(women), columns=women.columns)"
   ]
  },
  {
   "cell_type": "code",
   "execution_count": null,
   "id": "51eb40d4",
   "metadata": {
    "id": "51eb40d4"
   },
   "outputs": [],
   "source": [
    "# 정규화된 데이터 역 정규화\n",
    "men= pd.DataFrame(scaler.inverse_transform(men), columns=men.columns)\n",
    "women= pd.DataFrame(scaler.inverse_transform(women), columns=women.columns)"
   ]
  },
  {
   "cell_type": "code",
   "execution_count": null,
   "id": "9a78409e",
   "metadata": {
    "colab": {
     "base_uri": "https://localhost:8080/",
     "height": 49
    },
    "id": "9a78409e",
    "outputId": "6bae51b6-38ce-454a-ddd4-00dccdf6b2fc"
   },
   "outputs": [
    {
     "data": {
      "text/html": [
       "\n",
       "  <div id=\"df-f2e17f71-2120-4db0-993d-2f4378526c48\">\n",
       "    <div class=\"colab-df-container\">\n",
       "      <div>\n",
       "<style scoped>\n",
       "    .dataframe tbody tr th:only-of-type {\n",
       "        vertical-align: middle;\n",
       "    }\n",
       "\n",
       "    .dataframe tbody tr th {\n",
       "        vertical-align: top;\n",
       "    }\n",
       "\n",
       "    .dataframe thead th {\n",
       "        text-align: right;\n",
       "    }\n",
       "</style>\n",
       "<table border=\"1\" class=\"dataframe\">\n",
       "  <thead>\n",
       "    <tr style=\"text-align: right;\">\n",
       "      <th></th>\n",
       "      <th>column</th>\n",
       "      <th>count</th>\n",
       "      <th>ratio</th>\n",
       "    </tr>\n",
       "  </thead>\n",
       "  <tbody>\n",
       "  </tbody>\n",
       "</table>\n",
       "</div>\n",
       "      <button class=\"colab-df-convert\" onclick=\"convertToInteractive('df-f2e17f71-2120-4db0-993d-2f4378526c48')\"\n",
       "              title=\"Convert this dataframe to an interactive table.\"\n",
       "              style=\"display:none;\">\n",
       "        \n",
       "  <svg xmlns=\"http://www.w3.org/2000/svg\" height=\"24px\"viewBox=\"0 0 24 24\"\n",
       "       width=\"24px\">\n",
       "    <path d=\"M0 0h24v24H0V0z\" fill=\"none\"/>\n",
       "    <path d=\"M18.56 5.44l.94 2.06.94-2.06 2.06-.94-2.06-.94-.94-2.06-.94 2.06-2.06.94zm-11 1L8.5 8.5l.94-2.06 2.06-.94-2.06-.94L8.5 2.5l-.94 2.06-2.06.94zm10 10l.94 2.06.94-2.06 2.06-.94-2.06-.94-.94-2.06-.94 2.06-2.06.94z\"/><path d=\"M17.41 7.96l-1.37-1.37c-.4-.4-.92-.59-1.43-.59-.52 0-1.04.2-1.43.59L10.3 9.45l-7.72 7.72c-.78.78-.78 2.05 0 2.83L4 21.41c.39.39.9.59 1.41.59.51 0 1.02-.2 1.41-.59l7.78-7.78 2.81-2.81c.8-.78.8-2.07 0-2.86zM5.41 20L4 18.59l7.72-7.72 1.47 1.35L5.41 20z\"/>\n",
       "  </svg>\n",
       "      </button>\n",
       "      \n",
       "  <style>\n",
       "    .colab-df-container {\n",
       "      display:flex;\n",
       "      flex-wrap:wrap;\n",
       "      gap: 12px;\n",
       "    }\n",
       "\n",
       "    .colab-df-convert {\n",
       "      background-color: #E8F0FE;\n",
       "      border: none;\n",
       "      border-radius: 50%;\n",
       "      cursor: pointer;\n",
       "      display: none;\n",
       "      fill: #1967D2;\n",
       "      height: 32px;\n",
       "      padding: 0 0 0 0;\n",
       "      width: 32px;\n",
       "    }\n",
       "\n",
       "    .colab-df-convert:hover {\n",
       "      background-color: #E2EBFA;\n",
       "      box-shadow: 0px 1px 2px rgba(60, 64, 67, 0.3), 0px 1px 3px 1px rgba(60, 64, 67, 0.15);\n",
       "      fill: #174EA6;\n",
       "    }\n",
       "\n",
       "    [theme=dark] .colab-df-convert {\n",
       "      background-color: #3B4455;\n",
       "      fill: #D2E3FC;\n",
       "    }\n",
       "\n",
       "    [theme=dark] .colab-df-convert:hover {\n",
       "      background-color: #434B5C;\n",
       "      box-shadow: 0px 1px 3px 1px rgba(0, 0, 0, 0.15);\n",
       "      filter: drop-shadow(0px 1px 2px rgba(0, 0, 0, 0.3));\n",
       "      fill: #FFFFFF;\n",
       "    }\n",
       "  </style>\n",
       "\n",
       "      <script>\n",
       "        const buttonEl =\n",
       "          document.querySelector('#df-f2e17f71-2120-4db0-993d-2f4378526c48 button.colab-df-convert');\n",
       "        buttonEl.style.display =\n",
       "          google.colab.kernel.accessAllowed ? 'block' : 'none';\n",
       "\n",
       "        async function convertToInteractive(key) {\n",
       "          const element = document.querySelector('#df-f2e17f71-2120-4db0-993d-2f4378526c48');\n",
       "          const dataTable =\n",
       "            await google.colab.kernel.invokeFunction('convertToInteractive',\n",
       "                                                     [key], {});\n",
       "          if (!dataTable) return;\n",
       "\n",
       "          const docLinkHtml = 'Like what you see? Visit the ' +\n",
       "            '<a target=\"_blank\" href=https://colab.research.google.com/notebooks/data_table.ipynb>data table notebook</a>'\n",
       "            + ' to learn more about interactive tables.';\n",
       "          element.innerHTML = '';\n",
       "          dataTable['output_type'] = 'display_data';\n",
       "          await google.colab.output.renderOutput(dataTable, element);\n",
       "          const docLink = document.createElement('div');\n",
       "          docLink.innerHTML = docLinkHtml;\n",
       "          element.appendChild(docLink);\n",
       "        }\n",
       "      </script>\n",
       "    </div>\n",
       "  </div>\n",
       "  "
      ],
      "text/plain": [
       "Empty DataFrame\n",
       "Columns: [column, count, ratio]\n",
       "Index: []"
      ]
     },
     "execution_count": 345,
     "metadata": {},
     "output_type": "execute_result"
    }
   ],
   "source": [
    "#결측치 및 전체 데이터 중 비중 확인 /남자\n",
    "missing_df = men.isnull().sum().reset_index()\n",
    "missing_df.columns=['column','count']\n",
    "missing_df['ratio']= missing_df['count'] / men.shape[0]\n",
    "missing_df.loc[missing_df['ratio']!=0]\n",
    "\n",
    "# 결측치 사라진 모습"
   ]
  },
  {
   "cell_type": "code",
   "execution_count": null,
   "id": "R-sbwHDyCfmX",
   "metadata": {
    "colab": {
     "base_uri": "https://localhost:8080/",
     "height": 49
    },
    "id": "R-sbwHDyCfmX",
    "outputId": "d5351645-9b18-4b5d-ba47-e1540f9138eb"
   },
   "outputs": [
    {
     "data": {
      "text/html": [
       "\n",
       "  <div id=\"df-7c87d447-adb7-48d1-bfb7-02495ffca5e9\">\n",
       "    <div class=\"colab-df-container\">\n",
       "      <div>\n",
       "<style scoped>\n",
       "    .dataframe tbody tr th:only-of-type {\n",
       "        vertical-align: middle;\n",
       "    }\n",
       "\n",
       "    .dataframe tbody tr th {\n",
       "        vertical-align: top;\n",
       "    }\n",
       "\n",
       "    .dataframe thead th {\n",
       "        text-align: right;\n",
       "    }\n",
       "</style>\n",
       "<table border=\"1\" class=\"dataframe\">\n",
       "  <thead>\n",
       "    <tr style=\"text-align: right;\">\n",
       "      <th></th>\n",
       "      <th>column</th>\n",
       "      <th>count</th>\n",
       "      <th>ratio</th>\n",
       "    </tr>\n",
       "  </thead>\n",
       "  <tbody>\n",
       "  </tbody>\n",
       "</table>\n",
       "</div>\n",
       "      <button class=\"colab-df-convert\" onclick=\"convertToInteractive('df-7c87d447-adb7-48d1-bfb7-02495ffca5e9')\"\n",
       "              title=\"Convert this dataframe to an interactive table.\"\n",
       "              style=\"display:none;\">\n",
       "        \n",
       "  <svg xmlns=\"http://www.w3.org/2000/svg\" height=\"24px\"viewBox=\"0 0 24 24\"\n",
       "       width=\"24px\">\n",
       "    <path d=\"M0 0h24v24H0V0z\" fill=\"none\"/>\n",
       "    <path d=\"M18.56 5.44l.94 2.06.94-2.06 2.06-.94-2.06-.94-.94-2.06-.94 2.06-2.06.94zm-11 1L8.5 8.5l.94-2.06 2.06-.94-2.06-.94L8.5 2.5l-.94 2.06-2.06.94zm10 10l.94 2.06.94-2.06 2.06-.94-2.06-.94-.94-2.06-.94 2.06-2.06.94z\"/><path d=\"M17.41 7.96l-1.37-1.37c-.4-.4-.92-.59-1.43-.59-.52 0-1.04.2-1.43.59L10.3 9.45l-7.72 7.72c-.78.78-.78 2.05 0 2.83L4 21.41c.39.39.9.59 1.41.59.51 0 1.02-.2 1.41-.59l7.78-7.78 2.81-2.81c.8-.78.8-2.07 0-2.86zM5.41 20L4 18.59l7.72-7.72 1.47 1.35L5.41 20z\"/>\n",
       "  </svg>\n",
       "      </button>\n",
       "      \n",
       "  <style>\n",
       "    .colab-df-container {\n",
       "      display:flex;\n",
       "      flex-wrap:wrap;\n",
       "      gap: 12px;\n",
       "    }\n",
       "\n",
       "    .colab-df-convert {\n",
       "      background-color: #E8F0FE;\n",
       "      border: none;\n",
       "      border-radius: 50%;\n",
       "      cursor: pointer;\n",
       "      display: none;\n",
       "      fill: #1967D2;\n",
       "      height: 32px;\n",
       "      padding: 0 0 0 0;\n",
       "      width: 32px;\n",
       "    }\n",
       "\n",
       "    .colab-df-convert:hover {\n",
       "      background-color: #E2EBFA;\n",
       "      box-shadow: 0px 1px 2px rgba(60, 64, 67, 0.3), 0px 1px 3px 1px rgba(60, 64, 67, 0.15);\n",
       "      fill: #174EA6;\n",
       "    }\n",
       "\n",
       "    [theme=dark] .colab-df-convert {\n",
       "      background-color: #3B4455;\n",
       "      fill: #D2E3FC;\n",
       "    }\n",
       "\n",
       "    [theme=dark] .colab-df-convert:hover {\n",
       "      background-color: #434B5C;\n",
       "      box-shadow: 0px 1px 3px 1px rgba(0, 0, 0, 0.15);\n",
       "      filter: drop-shadow(0px 1px 2px rgba(0, 0, 0, 0.3));\n",
       "      fill: #FFFFFF;\n",
       "    }\n",
       "  </style>\n",
       "\n",
       "      <script>\n",
       "        const buttonEl =\n",
       "          document.querySelector('#df-7c87d447-adb7-48d1-bfb7-02495ffca5e9 button.colab-df-convert');\n",
       "        buttonEl.style.display =\n",
       "          google.colab.kernel.accessAllowed ? 'block' : 'none';\n",
       "\n",
       "        async function convertToInteractive(key) {\n",
       "          const element = document.querySelector('#df-7c87d447-adb7-48d1-bfb7-02495ffca5e9');\n",
       "          const dataTable =\n",
       "            await google.colab.kernel.invokeFunction('convertToInteractive',\n",
       "                                                     [key], {});\n",
       "          if (!dataTable) return;\n",
       "\n",
       "          const docLinkHtml = 'Like what you see? Visit the ' +\n",
       "            '<a target=\"_blank\" href=https://colab.research.google.com/notebooks/data_table.ipynb>data table notebook</a>'\n",
       "            + ' to learn more about interactive tables.';\n",
       "          element.innerHTML = '';\n",
       "          dataTable['output_type'] = 'display_data';\n",
       "          await google.colab.output.renderOutput(dataTable, element);\n",
       "          const docLink = document.createElement('div');\n",
       "          docLink.innerHTML = docLinkHtml;\n",
       "          element.appendChild(docLink);\n",
       "        }\n",
       "      </script>\n",
       "    </div>\n",
       "  </div>\n",
       "  "
      ],
      "text/plain": [
       "Empty DataFrame\n",
       "Columns: [column, count, ratio]\n",
       "Index: []"
      ]
     },
     "execution_count": 346,
     "metadata": {},
     "output_type": "execute_result"
    }
   ],
   "source": [
    "#결측치 및 전체 데이터 중 비중 확인 /여자\n",
    "missing_df = women.isnull().sum().reset_index()\n",
    "missing_df.columns=['column','count']\n",
    "missing_df['ratio']= missing_df['count'] / women.shape[0]\n",
    "missing_df.loc[missing_df['ratio']!=0]\n",
    "\n",
    "# 결측치 사라진 모습"
   ]
  },
  {
   "cell_type": "code",
   "execution_count": null,
   "id": "77f5c23c",
   "metadata": {
    "colab": {
     "base_uri": "https://localhost:8080/"
    },
    "id": "77f5c23c",
    "outputId": "2ed10d61-fefc-44ff-a1a3-e5c9091e49c9"
   },
   "outputs": [
    {
     "data": {
      "text/plain": [
       "1.0    51027\n",
       "2.0     1994\n",
       "3.0     1070\n",
       "4.0      397\n",
       "5.0      121\n",
       "6.0       37\n",
       "Name: OLIG_PROTE, dtype: int64"
      ]
     },
     "execution_count": 349,
     "metadata": {},
     "output_type": "execute_result"
    }
   ],
   "source": [
    "men['OLIG_PROTE'].value_counts()"
   ]
  },
  {
   "cell_type": "code",
   "execution_count": null,
   "id": "tYELBf4dcmM1",
   "metadata": {
    "colab": {
     "base_uri": "https://localhost:8080/"
    },
    "id": "tYELBf4dcmM1",
    "outputId": "fa066f1c-8127-405f-f28f-7cbe764c468d"
   },
   "outputs": [
    {
     "data": {
      "text/plain": [
       "1      29242\n",
       "0.0    25404\n",
       "Name: SMK_STAT, dtype: int64"
      ]
     },
     "execution_count": 363,
     "metadata": {},
     "output_type": "execute_result"
    }
   ],
   "source": [
    "men['SMK_STAT'].value_counts()"
   ]
  },
  {
   "cell_type": "code",
   "execution_count": null,
   "id": "mNO8r6qvdd--",
   "metadata": {
    "id": "mNO8r6qvdd--"
   },
   "outputs": [],
   "source": [
    "men= men.astype({'SMK_STAT': 'float'})\n",
    "women= women.astype({'SMK_STAT': 'float'})"
   ]
  },
  {
   "cell_type": "code",
   "execution_count": null,
   "id": "eOOw6zT3czTY",
   "metadata": {
    "id": "eOOw6zT3czTY"
   },
   "outputs": [],
   "source": [
    "men.loc[(men['SMK_STAT'] >0) & (men['SMK_STAT'] <=0.5),'SMK_STAT']='0'\n",
    "men.loc[(men['SMK_STAT'] >0.5) & (men['SMK_STAT'] <=1.5), 'SMK_STAT']='1'\n",
    "women.loc[(women['SMK_STAT'] >0) & (women['SMK_STAT'] <=0.5),'SMK_STAT']='0'\n",
    "women.loc[(women['SMK_STAT'] >0.5) & (women['SMK_STAT'] <=1.5), 'SMK_STAT']='1'"
   ]
  },
  {
   "cell_type": "code",
   "execution_count": null,
   "id": "oQn0ssYpdQyK",
   "metadata": {
    "colab": {
     "base_uri": "https://localhost:8080/"
    },
    "id": "oQn0ssYpdQyK",
    "outputId": "f5a1dcc2-8c69-4472-ef23-0c49833abe95"
   },
   "outputs": [
    {
     "name": "stdout",
     "output_type": "stream",
     "text": [
      "<class 'pandas.core.frame.DataFrame'>\n",
      "RangeIndex: 54646 entries, 0 to 54645\n",
      "Data columns (total 17 columns):\n",
      " #   Column       Non-Null Count  Dtype  \n",
      "---  ------       --------------  -----  \n",
      " 0   SEX          54646 non-null  float64\n",
      " 1   AGE          54646 non-null  float64\n",
      " 2   HEIGHT       54646 non-null  float64\n",
      " 3   WEIGHT       54646 non-null  float64\n",
      " 4   BP_HIGH      54646 non-null  float64\n",
      " 5   BP_LWST      54646 non-null  float64\n",
      " 6   BLDS         54646 non-null  float64\n",
      " 7   HMG          54646 non-null  float64\n",
      " 8   CREATININE   54646 non-null  float64\n",
      " 9   SGOT_AST     54646 non-null  float64\n",
      " 10  SGOT_ALT     54646 non-null  float64\n",
      " 11  GAMMA_GTP    54646 non-null  float64\n",
      " 12  DRK_YN       54646 non-null  float64\n",
      " 13  SMK_STAT     54646 non-null  object \n",
      " 14  SIGHT_LEFT   54646 non-null  float64\n",
      " 15  SIGHT_RIGHT  54646 non-null  float64\n",
      " 16  OLIG_PROTE   54646 non-null  float64\n",
      "dtypes: float64(16), object(1)\n",
      "memory usage: 7.1+ MB\n"
     ]
    }
   ],
   "source": [
    "men.info()"
   ]
  },
  {
   "cell_type": "code",
   "execution_count": null,
   "id": "3wQL-VdzDRK3",
   "metadata": {
    "colab": {
     "base_uri": "https://localhost:8080/"
    },
    "id": "3wQL-VdzDRK3",
    "outputId": "4698af5f-03d4-4b36-85bf-9adf20e7dc05"
   },
   "outputs": [
    {
     "name": "stdout",
     "output_type": "stream",
     "text": [
      "<class 'pandas.core.frame.DataFrame'>\n",
      "RangeIndex: 45354 entries, 0 to 45353\n",
      "Data columns (total 17 columns):\n",
      " #   Column       Non-Null Count  Dtype  \n",
      "---  ------       --------------  -----  \n",
      " 0   SEX          45354 non-null  float64\n",
      " 1   AGE          45354 non-null  float64\n",
      " 2   HEIGHT       45354 non-null  float64\n",
      " 3   WEIGHT       45354 non-null  float64\n",
      " 4   BP_HIGH      45354 non-null  float64\n",
      " 5   BP_LWST      45354 non-null  float64\n",
      " 6   BLDS         45354 non-null  float64\n",
      " 7   HMG          45354 non-null  float64\n",
      " 8   CREATININE   45354 non-null  float64\n",
      " 9   SGOT_AST     45354 non-null  float64\n",
      " 10  SGOT_ALT     45354 non-null  float64\n",
      " 11  GAMMA_GTP    45354 non-null  float64\n",
      " 12  DRK_YN       45354 non-null  float64\n",
      " 13  SMK_STAT     45354 non-null  object \n",
      " 14  SIGHT_LEFT   45354 non-null  float64\n",
      " 15  SIGHT_RIGHT  45354 non-null  float64\n",
      " 16  OLIG_PROTE   45354 non-null  float64\n",
      "dtypes: float64(16), object(1)\n",
      "memory usage: 5.9+ MB\n"
     ]
    }
   ],
   "source": [
    "women.info()"
   ]
  },
  {
   "cell_type": "code",
   "execution_count": null,
   "id": "257547c5",
   "metadata": {
    "id": "257547c5"
   },
   "outputs": [],
   "source": [
    "# 소수점 제거를 위해 범주형 데이터 int로 변경\n",
    "men= men.astype({'SEX':'int', 'SMK_STAT': 'int', 'HEIGHT': 'int', 'WEIGHT':'int'})\n",
    "men= men.astype({'AGE':'int', 'DRK_YN' : 'int','SIGHT_LEFT': 'int', 'SIGHT_RIGHT': 'int'})\n",
    "\n",
    "\n",
    "# 소수점 제거를 위해 범주형 데이터 int로 변경\n",
    "women= women.astype({'SEX':'int', 'SMK_STAT': 'int', 'HEIGHT': 'int', 'WEIGHT':'int'})\n",
    "women= women.astype({'AGE':'int', 'DRK_YN' : 'int','SIGHT_LEFT': 'int', 'SIGHT_RIGHT': 'int'})"
   ]
  },
  {
   "cell_type": "code",
   "execution_count": null,
   "id": "5e7caf68",
   "metadata": {
    "id": "5e7caf68"
   },
   "outputs": [],
   "source": [
    "# 범주형 데이터로 변환\n",
    "men= men.astype({'SEX':'category', 'SMK_STAT': 'category', 'HEIGHT': 'category', 'WEIGHT':'category'})\n",
    "men= men.astype({'AGE':'category', 'DRK_YN': 'category', 'OLIG_PROTE' : 'category'})\n",
    "men =men.astype({'SIGHT_LEFT': 'category', 'SIGHT_RIGHT': 'category'})\n",
    "\n",
    "\n",
    "# 범주형 데이터로 변환\n",
    "women= women.astype({'SEX':'category', 'SMK_STAT': 'category', 'HEIGHT': 'category', 'WEIGHT':'category'})\n",
    "women= women.astype({'AGE':'category', 'DRK_YN': 'category', 'OLIG_PROTE' : 'category'})\n",
    "women =women.astype({'SIGHT_LEFT': 'category', 'SIGHT_RIGHT': 'category'})"
   ]
  },
  {
   "cell_type": "code",
   "execution_count": null,
   "id": "7fbe313c",
   "metadata": {
    "colab": {
     "base_uri": "https://localhost:8080/"
    },
    "id": "7fbe313c",
    "outputId": "24e4ebdd-7f69-468d-83fe-851735db072b"
   },
   "outputs": [
    {
     "name": "stdout",
     "output_type": "stream",
     "text": [
      "<class 'pandas.core.frame.DataFrame'>\n",
      "RangeIndex: 54646 entries, 0 to 54645\n",
      "Data columns (total 17 columns):\n",
      " #   Column       Non-Null Count  Dtype   \n",
      "---  ------       --------------  -----   \n",
      " 0   SEX          54646 non-null  category\n",
      " 1   AGE          54646 non-null  category\n",
      " 2   HEIGHT       54646 non-null  category\n",
      " 3   WEIGHT       54646 non-null  category\n",
      " 4   BP_HIGH      54646 non-null  float64 \n",
      " 5   BP_LWST      54646 non-null  float64 \n",
      " 6   BLDS         54646 non-null  float64 \n",
      " 7   HMG          54646 non-null  float64 \n",
      " 8   CREATININE   54646 non-null  float64 \n",
      " 9   SGOT_AST     54646 non-null  float64 \n",
      " 10  SGOT_ALT     54646 non-null  float64 \n",
      " 11  GAMMA_GTP    54646 non-null  float64 \n",
      " 12  DRK_YN       54646 non-null  category\n",
      " 13  SMK_STAT     54646 non-null  category\n",
      " 14  SIGHT_LEFT   54646 non-null  category\n",
      " 15  SIGHT_RIGHT  54646 non-null  category\n",
      " 16  OLIG_PROTE   54646 non-null  category\n",
      "dtypes: category(9), float64(8)\n",
      "memory usage: 3.8 MB\n"
     ]
    }
   ],
   "source": [
    "men.info()"
   ]
  },
  {
   "cell_type": "code",
   "execution_count": null,
   "id": "x5CfJh2Jq8gz",
   "metadata": {
    "id": "x5CfJh2Jq8gz"
   },
   "outputs": [],
   "source": []
  },
  {
   "cell_type": "markdown",
   "id": "12f10c67",
   "metadata": {
    "id": "12f10c67"
   },
   "source": [
    "# train데이터 train/val/test .7/.1/.2 로 분리"
   ]
  },
  {
   "cell_type": "code",
   "execution_count": null,
   "id": "A4uBy9nNYgnH",
   "metadata": {
    "id": "A4uBy9nNYgnH"
   },
   "outputs": [],
   "source": [
    "#x,y 분리\n",
    "men_y= men['SMK_STAT']\n",
    "men_x= men.drop(['SMK_STAT'], axis=1)\n",
    "#x,y 분리\n",
    "women_y= women['SMK_STAT']\n",
    "women_x= women.drop(['SMK_STAT'], axis=1)"
   ]
  },
  {
   "cell_type": "code",
   "execution_count": null,
   "id": "663063cc",
   "metadata": {
    "id": "663063cc"
   },
   "outputs": [],
   "source": [
    "x_train_women, x_test_women, y_train_women, y_test_women = train_test_split(women_x,women_y,test_size= 0.3, shuffle=True, random_state= 1004)"
   ]
  },
  {
   "cell_type": "code",
   "execution_count": null,
   "id": "rgOqgdUuD2aG",
   "metadata": {
    "id": "rgOqgdUuD2aG"
   },
   "outputs": [],
   "source": [
    "x_train_men, x_test_men, y_train_men, y_test_men = train_test_split(men_x,men_y,test_size= 0.3, shuffle=True, random_state= 1004)"
   ]
  },
  {
   "cell_type": "markdown",
   "id": "yE5YMJUzYnTg",
   "metadata": {
    "id": "yE5YMJUzYnTg"
   },
   "source": [
    "SVM 모델 학습"
   ]
  },
  {
   "cell_type": "code",
   "execution_count": null,
   "id": "k9Wz2UbDYkKT",
   "metadata": {
    "colab": {
     "base_uri": "https://localhost:8080/"
    },
    "id": "k9Wz2UbDYkKT",
    "outputId": "1609bf8d-1d16-4a95-b6aa-8cc34ca8de7b"
   },
   "outputs": [
    {
     "name": "stdout",
     "output_type": "stream",
     "text": [
      "<class 'pandas.core.frame.DataFrame'>\n",
      "Int64Index: 38252 entries, 17613 to 48130\n",
      "Data columns (total 16 columns):\n",
      " #   Column       Non-Null Count  Dtype   \n",
      "---  ------       --------------  -----   \n",
      " 0   SEX          38252 non-null  category\n",
      " 1   AGE          38252 non-null  category\n",
      " 2   HEIGHT       38252 non-null  category\n",
      " 3   WEIGHT       38252 non-null  category\n",
      " 4   BP_HIGH      38252 non-null  float64 \n",
      " 5   BP_LWST      38252 non-null  float64 \n",
      " 6   BLDS         38252 non-null  float64 \n",
      " 7   HMG          38252 non-null  float64 \n",
      " 8   CREATININE   38252 non-null  float64 \n",
      " 9   SGOT_AST     38252 non-null  float64 \n",
      " 10  SGOT_ALT     38252 non-null  float64 \n",
      " 11  GAMMA_GTP    38252 non-null  float64 \n",
      " 12  DRK_YN       38252 non-null  category\n",
      " 13  SIGHT_LEFT   38252 non-null  category\n",
      " 14  SIGHT_RIGHT  38252 non-null  category\n",
      " 15  OLIG_PROTE   38252 non-null  category\n",
      "dtypes: category(8), float64(8)\n",
      "memory usage: 2.9 MB\n"
     ]
    }
   ],
   "source": [
    "x_train_men.info()"
   ]
  },
  {
   "cell_type": "code",
   "execution_count": null,
   "id": "Zqs9h7TSYx9e",
   "metadata": {
    "colab": {
     "base_uri": "https://localhost:8080/"
    },
    "id": "Zqs9h7TSYx9e",
    "outputId": "3085e1af-caf2-454d-8012-47f014e2ad09"
   },
   "outputs": [
    {
     "name": "stdout",
     "output_type": "stream",
     "text": [
      "<class 'pandas.core.frame.DataFrame'>\n",
      "Int64Index: 16394 entries, 7860 to 25378\n",
      "Data columns (total 17 columns):\n",
      " #   Column       Non-Null Count  Dtype   \n",
      "---  ------       --------------  -----   \n",
      " 0   SEX          16394 non-null  category\n",
      " 1   AGE          16394 non-null  category\n",
      " 2   HEIGHT       16394 non-null  category\n",
      " 3   WEIGHT       16394 non-null  category\n",
      " 4   WAIST        16394 non-null  float64 \n",
      " 5   BP_HIGH      16394 non-null  float64 \n",
      " 6   BP_LWST      16394 non-null  float64 \n",
      " 7   BLDS         16394 non-null  float64 \n",
      " 8   HMG          16394 non-null  float64 \n",
      " 9   CREATININE   16394 non-null  float64 \n",
      " 10  SGOT_AST     16394 non-null  float64 \n",
      " 11  SGOT_ALT     16394 non-null  float64 \n",
      " 12  GAMMA_GTP    16394 non-null  float64 \n",
      " 13  DRK_YN       16394 non-null  category\n",
      " 14  SIGHT_LEFT   16394 non-null  category\n",
      " 15  SIGHT_RIGHT  16394 non-null  category\n",
      " 16  OLIG_PROTE   16394 non-null  category\n",
      "dtypes: category(8), float64(9)\n",
      "memory usage: 1.4 MB\n"
     ]
    }
   ],
   "source": [
    "x_test.info()"
   ]
  },
  {
   "cell_type": "code",
   "execution_count": null,
   "id": "Zz3bLpJMENQR",
   "metadata": {
    "id": "Zz3bLpJMENQR"
   },
   "outputs": [],
   "source": [
    "#남자 거"
   ]
  },
  {
   "cell_type": "code",
   "execution_count": null,
   "id": "zu7VI4JsY1xk",
   "metadata": {
    "id": "zu7VI4JsY1xk"
   },
   "outputs": [],
   "source": [
    "scaler = MinMaxScaler()\n",
    "scaler.fit(x_train_men)\n",
    "x_train_men = scaler.transform(x_train_men)\n",
    "x_test_men = scaler.transform(x_test_men)"
   ]
  },
  {
   "cell_type": "code",
   "execution_count": null,
   "id": "p47noMCgHifT",
   "metadata": {
    "id": "p47noMCgHifT"
   },
   "outputs": [],
   "source": []
  },
  {
   "cell_type": "code",
   "execution_count": null,
   "id": "QeN9YLvjvB5L",
   "metadata": {
    "colab": {
     "base_uri": "https://localhost:8080/"
    },
    "id": "QeN9YLvjvB5L",
    "outputId": "447a7940-37cf-4c6f-ffbe-b81de4c8308d"
   },
   "outputs": [
    {
     "name": "stdout",
     "output_type": "stream",
     "text": [
      "선형 SVM : C:1, training score:0.613563, test score:0.617177\n",
      "Classification report for SVC(C=1, class_weight={}, kernel='linear')\n",
      "              precision    recall  f1-score   support\n",
      "\n",
      "           0       0.69      0.32      0.44      7604\n",
      "           1       0.60      0.87      0.71      8790\n",
      "\n",
      "    accuracy                           0.62     16394\n",
      "   macro avg       0.64      0.60      0.57     16394\n",
      "weighted avg       0.64      0.62      0.58     16394\n",
      "\n",
      "선형 SVM : C:2, training score:0.613563, test score:0.617177\n",
      "Classification report for SVC(C=2, class_weight={}, kernel='linear')\n",
      "              precision    recall  f1-score   support\n",
      "\n",
      "           0       0.69      0.32      0.44      7604\n",
      "           1       0.60      0.87      0.71      8790\n",
      "\n",
      "    accuracy                           0.62     16394\n",
      "   macro avg       0.64      0.60      0.57     16394\n",
      "weighted avg       0.64      0.62      0.58     16394\n",
      "\n",
      "선형 SVM : C:3, training score:0.613563, test score:0.617177\n",
      "Classification report for SVC(C=3, class_weight={}, kernel='linear')\n",
      "              precision    recall  f1-score   support\n",
      "\n",
      "           0       0.69      0.32      0.44      7604\n",
      "           1       0.60      0.87      0.71      8790\n",
      "\n",
      "    accuracy                           0.62     16394\n",
      "   macro avg       0.64      0.60      0.57     16394\n",
      "weighted avg       0.64      0.62      0.58     16394\n",
      "\n",
      "선형 SVM : C:4, training score:0.613563, test score:0.617177\n",
      "Classification report for SVC(C=4, class_weight={}, kernel='linear')\n",
      "              precision    recall  f1-score   support\n",
      "\n",
      "           0       0.69      0.32      0.44      7604\n",
      "           1       0.60      0.87      0.71      8790\n",
      "\n",
      "    accuracy                           0.62     16394\n",
      "   macro avg       0.64      0.60      0.57     16394\n",
      "weighted avg       0.64      0.62      0.58     16394\n",
      "\n",
      "선형 SVM : C:5, training score:0.613563, test score:0.617177\n",
      "Classification report for SVC(C=5, class_weight={}, kernel='linear')\n",
      "              precision    recall  f1-score   support\n",
      "\n",
      "           0       0.69      0.32      0.44      7604\n",
      "           1       0.60      0.87      0.71      8790\n",
      "\n",
      "    accuracy                           0.62     16394\n",
      "   macro avg       0.64      0.60      0.57     16394\n",
      "weighted avg       0.64      0.62      0.58     16394\n",
      "\n",
      "선형 SVM : C:6, training score:0.613563, test score:0.617177\n",
      "Classification report for SVC(C=6, class_weight={}, kernel='linear')\n",
      "              precision    recall  f1-score   support\n",
      "\n",
      "           0       0.69      0.32      0.44      7604\n",
      "           1       0.60      0.87      0.71      8790\n",
      "\n",
      "    accuracy                           0.62     16394\n",
      "   macro avg       0.64      0.60      0.57     16394\n",
      "weighted avg       0.64      0.62      0.58     16394\n",
      "\n",
      "선형 SVM : C:7, training score:0.613563, test score:0.617177\n",
      "Classification report for SVC(C=7, class_weight={}, kernel='linear')\n",
      "              precision    recall  f1-score   support\n",
      "\n",
      "           0       0.69      0.32      0.44      7604\n",
      "           1       0.60      0.87      0.71      8790\n",
      "\n",
      "    accuracy                           0.62     16394\n",
      "   macro avg       0.64      0.60      0.57     16394\n",
      "weighted avg       0.64      0.62      0.58     16394\n",
      "\n",
      "선형 SVM : C:8, training score:0.613563, test score:0.617177\n",
      "Classification report for SVC(C=8, class_weight={}, kernel='linear')\n",
      "              precision    recall  f1-score   support\n",
      "\n",
      "           0       0.69      0.32      0.44      7604\n",
      "           1       0.60      0.87      0.71      8790\n",
      "\n",
      "    accuracy                           0.62     16394\n",
      "   macro avg       0.64      0.60      0.57     16394\n",
      "weighted avg       0.64      0.62      0.58     16394\n",
      "\n",
      "선형 SVM : C:9, training score:0.613563, test score:0.617177\n",
      "Classification report for SVC(C=9, class_weight={}, kernel='linear')\n",
      "              precision    recall  f1-score   support\n",
      "\n",
      "           0       0.69      0.32      0.44      7604\n",
      "           1       0.60      0.87      0.71      8790\n",
      "\n",
      "    accuracy                           0.62     16394\n",
      "   macro avg       0.64      0.60      0.57     16394\n",
      "weighted avg       0.64      0.62      0.58     16394\n",
      "\n"
     ]
    }
   ],
   "source": [
    "scores = []\n",
    "for thisC in [*range(1,10)]:\n",
    "    svc=SVC(kernel='linear',C=thisC)\n",
    "    model=svc.fit(x_train_men,y_train_men)\n",
    "    scoreTrain=model.score(x_train_men,y_train_men)\n",
    "    scoreTest=model.score(x_test_men,y_test_men)\n",
    "    y_predicted = model.predict(x_test_men)\n",
    "    print(\"선형 SVM : C:{}, training score:{:2f}, test score:{:2f}\".format\n",
    "          (thisC,scoreTrain, scoreTest))\n",
    "    print(\"Classification report for %s\" % model)\n",
    "    print(metrics.classification_report(y_test_men, y_predicted))\n",
    "\n",
    "    scores.append([scoreTrain, scoreTest])"
   ]
  },
  {
   "cell_type": "code",
   "execution_count": null,
   "id": "M8qJ33sAFDLk",
   "metadata": {
    "id": "M8qJ33sAFDLk"
   },
   "outputs": [],
   "source": [
    "men_test=test.drop(['id'],axis=1)\n",
    "test.head()\n",
    "testmat=np.array(test)\n",
    "test=scaler.fit_transform(test)\n",
    "#test(DF -> array)\n",
    "model=SVC(kernel='rbf', C=5, gamma=.1).fit(xtrain, ytrain)"
   ]
  },
  {
   "cell_type": "code",
   "execution_count": null,
   "id": "EPAxM4bsFDCc",
   "metadata": {
    "id": "EPAxM4bsFDCc"
   },
   "outputs": [],
   "source": [
    "prediction=model.predict(test)\n",
    "pred=pd.DataFrame(prediction)\n",
    "pred"
   ]
  },
  {
   "cell_type": "code",
   "execution_count": null,
   "id": "xto-jhVn30Wd",
   "metadata": {
    "id": "xto-jhVn30Wd"
   },
   "outputs": [],
   "source": [
    "#여자 거"
   ]
  },
  {
   "cell_type": "code",
   "execution_count": null,
   "id": "rWw_oU1FEmpf",
   "metadata": {
    "id": "rWw_oU1FEmpf"
   },
   "outputs": [],
   "source": [
    "scaler = MinMaxScaler()\n",
    "scaler.fit(x_train_women)\n",
    "x_train_women = scaler.transform(x_train_women)\n",
    "x_test_women = scaler.transform(x_test_women)"
   ]
  },
  {
   "cell_type": "code",
   "execution_count": null,
   "id": "y-Ube5FfEuSU",
   "metadata": {
    "colab": {
     "base_uri": "https://localhost:8080/"
    },
    "id": "y-Ube5FfEuSU",
    "outputId": "547a0fdb-4f4b-4c3e-d2f2-790a9388e885"
   },
   "outputs": [
    {
     "name": "stdout",
     "output_type": "stream",
     "text": [
      "선형 SVM : C:1, training score:0.963367, test score:0.961784\n",
      "Classification report for SVC(C=1, class_weight={}, kernel='linear')\n",
      "              precision    recall  f1-score   support\n",
      "\n",
      "           0       0.96      1.00      0.98     13087\n",
      "           1       0.00      0.00      0.00       520\n",
      "\n",
      "    accuracy                           0.96     13607\n",
      "   macro avg       0.48      0.50      0.49     13607\n",
      "weighted avg       0.93      0.96      0.94     13607\n",
      "\n"
     ]
    },
    {
     "name": "stderr",
     "output_type": "stream",
     "text": [
      "/usr/local/lib/python3.7/dist-packages/sklearn/metrics/_classification.py:1318: UndefinedMetricWarning: Precision and F-score are ill-defined and being set to 0.0 in labels with no predicted samples. Use `zero_division` parameter to control this behavior.\n",
      "  _warn_prf(average, modifier, msg_start, len(result))\n",
      "/usr/local/lib/python3.7/dist-packages/sklearn/metrics/_classification.py:1318: UndefinedMetricWarning: Precision and F-score are ill-defined and being set to 0.0 in labels with no predicted samples. Use `zero_division` parameter to control this behavior.\n",
      "  _warn_prf(average, modifier, msg_start, len(result))\n",
      "/usr/local/lib/python3.7/dist-packages/sklearn/metrics/_classification.py:1318: UndefinedMetricWarning: Precision and F-score are ill-defined and being set to 0.0 in labels with no predicted samples. Use `zero_division` parameter to control this behavior.\n",
      "  _warn_prf(average, modifier, msg_start, len(result))\n"
     ]
    },
    {
     "name": "stdout",
     "output_type": "stream",
     "text": [
      "선형 SVM : C:2, training score:0.963367, test score:0.961784\n",
      "Classification report for SVC(C=2, class_weight={}, kernel='linear')\n",
      "              precision    recall  f1-score   support\n",
      "\n",
      "           0       0.96      1.00      0.98     13087\n",
      "           1       0.00      0.00      0.00       520\n",
      "\n",
      "    accuracy                           0.96     13607\n",
      "   macro avg       0.48      0.50      0.49     13607\n",
      "weighted avg       0.93      0.96      0.94     13607\n",
      "\n"
     ]
    },
    {
     "name": "stderr",
     "output_type": "stream",
     "text": [
      "/usr/local/lib/python3.7/dist-packages/sklearn/metrics/_classification.py:1318: UndefinedMetricWarning: Precision and F-score are ill-defined and being set to 0.0 in labels with no predicted samples. Use `zero_division` parameter to control this behavior.\n",
      "  _warn_prf(average, modifier, msg_start, len(result))\n",
      "/usr/local/lib/python3.7/dist-packages/sklearn/metrics/_classification.py:1318: UndefinedMetricWarning: Precision and F-score are ill-defined and being set to 0.0 in labels with no predicted samples. Use `zero_division` parameter to control this behavior.\n",
      "  _warn_prf(average, modifier, msg_start, len(result))\n",
      "/usr/local/lib/python3.7/dist-packages/sklearn/metrics/_classification.py:1318: UndefinedMetricWarning: Precision and F-score are ill-defined and being set to 0.0 in labels with no predicted samples. Use `zero_division` parameter to control this behavior.\n",
      "  _warn_prf(average, modifier, msg_start, len(result))\n"
     ]
    },
    {
     "name": "stdout",
     "output_type": "stream",
     "text": [
      "선형 SVM : C:3, training score:0.963367, test score:0.961784\n",
      "Classification report for SVC(C=3, class_weight={}, kernel='linear')\n",
      "              precision    recall  f1-score   support\n",
      "\n",
      "           0       0.96      1.00      0.98     13087\n",
      "           1       0.00      0.00      0.00       520\n",
      "\n",
      "    accuracy                           0.96     13607\n",
      "   macro avg       0.48      0.50      0.49     13607\n",
      "weighted avg       0.93      0.96      0.94     13607\n",
      "\n"
     ]
    },
    {
     "name": "stderr",
     "output_type": "stream",
     "text": [
      "/usr/local/lib/python3.7/dist-packages/sklearn/metrics/_classification.py:1318: UndefinedMetricWarning: Precision and F-score are ill-defined and being set to 0.0 in labels with no predicted samples. Use `zero_division` parameter to control this behavior.\n",
      "  _warn_prf(average, modifier, msg_start, len(result))\n",
      "/usr/local/lib/python3.7/dist-packages/sklearn/metrics/_classification.py:1318: UndefinedMetricWarning: Precision and F-score are ill-defined and being set to 0.0 in labels with no predicted samples. Use `zero_division` parameter to control this behavior.\n",
      "  _warn_prf(average, modifier, msg_start, len(result))\n",
      "/usr/local/lib/python3.7/dist-packages/sklearn/metrics/_classification.py:1318: UndefinedMetricWarning: Precision and F-score are ill-defined and being set to 0.0 in labels with no predicted samples. Use `zero_division` parameter to control this behavior.\n",
      "  _warn_prf(average, modifier, msg_start, len(result))\n"
     ]
    },
    {
     "name": "stdout",
     "output_type": "stream",
     "text": [
      "선형 SVM : C:4, training score:0.963367, test score:0.961784\n",
      "Classification report for SVC(C=4, class_weight={}, kernel='linear')\n",
      "              precision    recall  f1-score   support\n",
      "\n",
      "           0       0.96      1.00      0.98     13087\n",
      "           1       0.00      0.00      0.00       520\n",
      "\n",
      "    accuracy                           0.96     13607\n",
      "   macro avg       0.48      0.50      0.49     13607\n",
      "weighted avg       0.93      0.96      0.94     13607\n",
      "\n"
     ]
    },
    {
     "name": "stderr",
     "output_type": "stream",
     "text": [
      "/usr/local/lib/python3.7/dist-packages/sklearn/metrics/_classification.py:1318: UndefinedMetricWarning: Precision and F-score are ill-defined and being set to 0.0 in labels with no predicted samples. Use `zero_division` parameter to control this behavior.\n",
      "  _warn_prf(average, modifier, msg_start, len(result))\n",
      "/usr/local/lib/python3.7/dist-packages/sklearn/metrics/_classification.py:1318: UndefinedMetricWarning: Precision and F-score are ill-defined and being set to 0.0 in labels with no predicted samples. Use `zero_division` parameter to control this behavior.\n",
      "  _warn_prf(average, modifier, msg_start, len(result))\n",
      "/usr/local/lib/python3.7/dist-packages/sklearn/metrics/_classification.py:1318: UndefinedMetricWarning: Precision and F-score are ill-defined and being set to 0.0 in labels with no predicted samples. Use `zero_division` parameter to control this behavior.\n",
      "  _warn_prf(average, modifier, msg_start, len(result))\n"
     ]
    },
    {
     "name": "stdout",
     "output_type": "stream",
     "text": [
      "선형 SVM : C:5, training score:0.963367, test score:0.961784\n",
      "Classification report for SVC(C=5, class_weight={}, kernel='linear')\n",
      "              precision    recall  f1-score   support\n",
      "\n",
      "           0       0.96      1.00      0.98     13087\n",
      "           1       0.00      0.00      0.00       520\n",
      "\n",
      "    accuracy                           0.96     13607\n",
      "   macro avg       0.48      0.50      0.49     13607\n",
      "weighted avg       0.93      0.96      0.94     13607\n",
      "\n"
     ]
    },
    {
     "name": "stderr",
     "output_type": "stream",
     "text": [
      "/usr/local/lib/python3.7/dist-packages/sklearn/metrics/_classification.py:1318: UndefinedMetricWarning: Precision and F-score are ill-defined and being set to 0.0 in labels with no predicted samples. Use `zero_division` parameter to control this behavior.\n",
      "  _warn_prf(average, modifier, msg_start, len(result))\n",
      "/usr/local/lib/python3.7/dist-packages/sklearn/metrics/_classification.py:1318: UndefinedMetricWarning: Precision and F-score are ill-defined and being set to 0.0 in labels with no predicted samples. Use `zero_division` parameter to control this behavior.\n",
      "  _warn_prf(average, modifier, msg_start, len(result))\n",
      "/usr/local/lib/python3.7/dist-packages/sklearn/metrics/_classification.py:1318: UndefinedMetricWarning: Precision and F-score are ill-defined and being set to 0.0 in labels with no predicted samples. Use `zero_division` parameter to control this behavior.\n",
      "  _warn_prf(average, modifier, msg_start, len(result))\n"
     ]
    },
    {
     "name": "stdout",
     "output_type": "stream",
     "text": [
      "선형 SVM : C:6, training score:0.963367, test score:0.961784\n",
      "Classification report for SVC(C=6, class_weight={}, kernel='linear')\n",
      "              precision    recall  f1-score   support\n",
      "\n",
      "           0       0.96      1.00      0.98     13087\n",
      "           1       0.00      0.00      0.00       520\n",
      "\n",
      "    accuracy                           0.96     13607\n",
      "   macro avg       0.48      0.50      0.49     13607\n",
      "weighted avg       0.93      0.96      0.94     13607\n",
      "\n"
     ]
    },
    {
     "name": "stderr",
     "output_type": "stream",
     "text": [
      "/usr/local/lib/python3.7/dist-packages/sklearn/metrics/_classification.py:1318: UndefinedMetricWarning: Precision and F-score are ill-defined and being set to 0.0 in labels with no predicted samples. Use `zero_division` parameter to control this behavior.\n",
      "  _warn_prf(average, modifier, msg_start, len(result))\n",
      "/usr/local/lib/python3.7/dist-packages/sklearn/metrics/_classification.py:1318: UndefinedMetricWarning: Precision and F-score are ill-defined and being set to 0.0 in labels with no predicted samples. Use `zero_division` parameter to control this behavior.\n",
      "  _warn_prf(average, modifier, msg_start, len(result))\n",
      "/usr/local/lib/python3.7/dist-packages/sklearn/metrics/_classification.py:1318: UndefinedMetricWarning: Precision and F-score are ill-defined and being set to 0.0 in labels with no predicted samples. Use `zero_division` parameter to control this behavior.\n",
      "  _warn_prf(average, modifier, msg_start, len(result))\n"
     ]
    },
    {
     "name": "stdout",
     "output_type": "stream",
     "text": [
      "선형 SVM : C:7, training score:0.963367, test score:0.961784\n",
      "Classification report for SVC(C=7, class_weight={}, kernel='linear')\n",
      "              precision    recall  f1-score   support\n",
      "\n",
      "           0       0.96      1.00      0.98     13087\n",
      "           1       0.00      0.00      0.00       520\n",
      "\n",
      "    accuracy                           0.96     13607\n",
      "   macro avg       0.48      0.50      0.49     13607\n",
      "weighted avg       0.93      0.96      0.94     13607\n",
      "\n"
     ]
    },
    {
     "name": "stderr",
     "output_type": "stream",
     "text": [
      "/usr/local/lib/python3.7/dist-packages/sklearn/metrics/_classification.py:1318: UndefinedMetricWarning: Precision and F-score are ill-defined and being set to 0.0 in labels with no predicted samples. Use `zero_division` parameter to control this behavior.\n",
      "  _warn_prf(average, modifier, msg_start, len(result))\n",
      "/usr/local/lib/python3.7/dist-packages/sklearn/metrics/_classification.py:1318: UndefinedMetricWarning: Precision and F-score are ill-defined and being set to 0.0 in labels with no predicted samples. Use `zero_division` parameter to control this behavior.\n",
      "  _warn_prf(average, modifier, msg_start, len(result))\n",
      "/usr/local/lib/python3.7/dist-packages/sklearn/metrics/_classification.py:1318: UndefinedMetricWarning: Precision and F-score are ill-defined and being set to 0.0 in labels with no predicted samples. Use `zero_division` parameter to control this behavior.\n",
      "  _warn_prf(average, modifier, msg_start, len(result))\n"
     ]
    },
    {
     "name": "stdout",
     "output_type": "stream",
     "text": [
      "선형 SVM : C:8, training score:0.963367, test score:0.961784\n",
      "Classification report for SVC(C=8, class_weight={}, kernel='linear')\n",
      "              precision    recall  f1-score   support\n",
      "\n",
      "           0       0.96      1.00      0.98     13087\n",
      "           1       0.00      0.00      0.00       520\n",
      "\n",
      "    accuracy                           0.96     13607\n",
      "   macro avg       0.48      0.50      0.49     13607\n",
      "weighted avg       0.93      0.96      0.94     13607\n",
      "\n"
     ]
    },
    {
     "name": "stderr",
     "output_type": "stream",
     "text": [
      "/usr/local/lib/python3.7/dist-packages/sklearn/metrics/_classification.py:1318: UndefinedMetricWarning: Precision and F-score are ill-defined and being set to 0.0 in labels with no predicted samples. Use `zero_division` parameter to control this behavior.\n",
      "  _warn_prf(average, modifier, msg_start, len(result))\n",
      "/usr/local/lib/python3.7/dist-packages/sklearn/metrics/_classification.py:1318: UndefinedMetricWarning: Precision and F-score are ill-defined and being set to 0.0 in labels with no predicted samples. Use `zero_division` parameter to control this behavior.\n",
      "  _warn_prf(average, modifier, msg_start, len(result))\n",
      "/usr/local/lib/python3.7/dist-packages/sklearn/metrics/_classification.py:1318: UndefinedMetricWarning: Precision and F-score are ill-defined and being set to 0.0 in labels with no predicted samples. Use `zero_division` parameter to control this behavior.\n",
      "  _warn_prf(average, modifier, msg_start, len(result))\n"
     ]
    },
    {
     "name": "stdout",
     "output_type": "stream",
     "text": [
      "선형 SVM : C:9, training score:0.963367, test score:0.961784\n",
      "Classification report for SVC(C=9, class_weight={}, kernel='linear')\n",
      "              precision    recall  f1-score   support\n",
      "\n",
      "           0       0.96      1.00      0.98     13087\n",
      "           1       0.00      0.00      0.00       520\n",
      "\n",
      "    accuracy                           0.96     13607\n",
      "   macro avg       0.48      0.50      0.49     13607\n",
      "weighted avg       0.93      0.96      0.94     13607\n",
      "\n"
     ]
    },
    {
     "name": "stderr",
     "output_type": "stream",
     "text": [
      "/usr/local/lib/python3.7/dist-packages/sklearn/metrics/_classification.py:1318: UndefinedMetricWarning: Precision and F-score are ill-defined and being set to 0.0 in labels with no predicted samples. Use `zero_division` parameter to control this behavior.\n",
      "  _warn_prf(average, modifier, msg_start, len(result))\n",
      "/usr/local/lib/python3.7/dist-packages/sklearn/metrics/_classification.py:1318: UndefinedMetricWarning: Precision and F-score are ill-defined and being set to 0.0 in labels with no predicted samples. Use `zero_division` parameter to control this behavior.\n",
      "  _warn_prf(average, modifier, msg_start, len(result))\n",
      "/usr/local/lib/python3.7/dist-packages/sklearn/metrics/_classification.py:1318: UndefinedMetricWarning: Precision and F-score are ill-defined and being set to 0.0 in labels with no predicted samples. Use `zero_division` parameter to control this behavior.\n",
      "  _warn_prf(average, modifier, msg_start, len(result))\n"
     ]
    }
   ],
   "source": [
    "scores = []\n",
    "for thisC in [*range(1,10)]:\n",
    "    svc=SVC(kernel='linear',C=thisC)\n",
    "    model=svc.fit(x_train_women,y_train_women)\n",
    "    scoreTrain=model.score(x_train_women,y_train_women)\n",
    "    scoreTest=model.score(x_test_women,y_test_women)\n",
    "    y_predicted = model.predict(x_test_women)\n",
    "    print(\"선형 SVM : C:{}, training score:{:2f}, test score:{:2f}\".format\n",
    "          (thisC,scoreTrain, scoreTest))\n",
    "    print(\"Classification report for %s\" % model)\n",
    "    print(metrics.classification_report(y_test_women, y_predicted))\n",
    "\n",
    "    scores.append([scoreTrain, scoreTest])"
   ]
  },
  {
   "cell_type": "code",
   "execution_count": null,
   "id": "vb8vCAIIHw_M",
   "metadata": {
    "id": "vb8vCAIIHw_M"
   },
   "outputs": [],
   "source": [
    "test = pd.read_csv('test.csv')"
   ]
  },
  {
   "cell_type": "code",
   "execution_count": null,
   "id": "hlKRcqcLHxff",
   "metadata": {
    "id": "hlKRcqcLHxff"
   },
   "outputs": [],
   "source": []
  },
  {
   "cell_type": "code",
   "execution_count": null,
   "id": "iG4eQsnjHxom",
   "metadata": {
    "id": "iG4eQsnjHxom"
   },
   "outputs": [],
   "source": []
  },
  {
   "cell_type": "code",
   "execution_count": null,
   "id": "IS9rLPMuHxwq",
   "metadata": {
    "id": "IS9rLPMuHxwq"
   },
   "outputs": [],
   "source": []
  }
 ],
 "metadata": {
  "accelerator": "GPU",
  "colab": {
   "provenance": [],
   "toc_visible": true
  },
  "gpuClass": "standard",
  "kernelspec": {
   "display_name": "Python 3 (ipykernel)",
   "language": "python",
   "name": "python3"
  },
  "language_info": {
   "codemirror_mode": {
    "name": "ipython",
    "version": 3
   },
   "file_extension": ".py",
   "mimetype": "text/x-python",
   "name": "python",
   "nbconvert_exporter": "python",
   "pygments_lexer": "ipython3",
   "version": "3.9.12"
  }
 },
 "nbformat": 4,
 "nbformat_minor": 5
}
